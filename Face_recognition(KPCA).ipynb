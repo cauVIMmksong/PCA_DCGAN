{
 "cells": [
  {
   "cell_type": "markdown",
   "metadata": {},
   "source": [
    "## 데이터 Import"
   ]
  },
  {
   "cell_type": "code",
   "execution_count": 227,
   "metadata": {},
   "outputs": [],
   "source": [
    "from sklearn.datasets import fetch_olivetti_faces\n",
    "from sklearn.model_selection import train_test_split \n",
    "from sklearn.model_selection import GridSearchCV\n",
    "from sklearn.metrics import classification_report, accuracy_score\n",
    "from sklearn.metrics import confusion_matrix \n",
    "from sklearn.decomposition import KernelPCA \n",
    "from sklearn.svm import SVC \n",
    "import numpy as np\n",
    "import matplotlib.pyplot as plt\n",
    "import numpy as np\n",
    "from sklearn.pipeline import Pipeline\n",
    "import pandas as pd\n",
    "import plotly.express as px\n",
    "from torch import optim\n",
    "import torch\n",
    "from torch import nn\n",
    "from tqdm.notebook import tqdm"
   ]
  },
  {
   "cell_type": "markdown",
   "metadata": {},
   "source": [
    "## 데이터 불러오기"
   ]
  },
  {
   "cell_type": "code",
   "execution_count": 184,
   "metadata": {},
   "outputs": [
    {
     "name": "stdout",
     "output_type": "stream",
     "text": [
      "이미지 갯수[400],  이미지 가로[64],  이미지 세로[64]  가로X세로[4096]\n",
      "클래스 개수[40]\n"
     ]
    }
   ],
   "source": [
    "olive_data = fetch_olivetti_faces()\n",
    "\n",
    "## 이미지 데이터\n",
    "n_samples, h, w = olive_data.images.shape\n",
    "data_size = h*w\n",
    "X = olive_data.images.reshape(-1, data_size)\n",
    "print(\"이미지 갯수[{}],  이미지 가로[{}],  이미지 세로[{}]  가로X세로[{}]\".format(n_samples, h, w, data_size))\n",
    "\n",
    "## Label 데이터\n",
    "y = olive_data.target\n",
    "n_classes = len(set(y))\n",
    "print(\"클래스 개수[{}]\".format(n_classes))"
   ]
  },
  {
   "cell_type": "code",
   "execution_count": 185,
   "metadata": {},
   "outputs": [
    {
     "data": {
      "image/png": "[encoded data removed]",
      "text/plain": [
       "<Figure size 388.8x172.8 with 3 Axes>"
      ]
     },
     "metadata": {},
     "output_type": "display_data"
    }
   ],
   "source": [
    "## 데이터 시각화  \n",
    "def plot_gallery(images, item_index, n_col = 3, h=64, w=64, title=None): \n",
    "    if len(item_index) < n_col:\n",
    "        n_row = len(item_index)\n",
    "    \n",
    "    plt.figure(figsize =(1.8 * n_col, 2.4))\n",
    "    item_index = item_index[:n_col]\n",
    "    #plt.subplots_adjust(bottom = 0, left =.01, right =.99, top =.90, hspace =.35) \n",
    "    for i in range(n_col): \n",
    "        plt.subplot(1, n_col, i + 1) \n",
    "        plt.imshow(images[item_index[i]].reshape(h, w), cmap = plt.cm.gray) \n",
    "        plt.xticks(()) \n",
    "        plt.yticks(())\n",
    "    if title is not None:\n",
    "        plt.suptitle(title)\n",
    "        \n",
    "## 얼굴 선택\n",
    "sample_index = 1\n",
    "n_col = 3\n",
    "itemindex = np.where(y==sample_index)[0]\n",
    "\n",
    "## 얼굴 plot\n",
    "plot_gallery(X, itemindex, n_col, h, w)"
   ]
  },
  {
   "cell_type": "code",
   "execution_count": 187,
   "metadata": {},
   "outputs": [
    {
     "name": "stdout",
     "output_type": "stream",
     "text": [
      "학습용 데이터[200], 검증용 데이터[200]\n"
     ]
    }
   ],
   "source": [
    "## 데이터 나누기 5:5\n",
    "X_train, X_test, y_train, y_test = train_test_split( \n",
    "    X, y, test_size = 0.5, random_state = 42, stratify=y) \n",
    "print(\"학습용 데이터[{}], 검증용 데이터[{}]\".format( \n",
    "        y_train.shape[0], y_test.shape[0])) "
   ]
  },
  {
   "cell_type": "markdown",
   "metadata": {},
   "source": [
    "## Kernel-PCA & Linear-SVM 파라미터 탐색"
   ]
  },
  {
   "cell_type": "code",
   "execution_count": 188,
   "metadata": {},
   "outputs": [],
   "source": [
    "## Pipe Line 구성\n",
    "pipe = Pipeline([('pca', KernelPCA(kernel=\"poly\")), ('svc', SVC(class_weight ='balanced'))])"
   ]
  },
  {
   "cell_type": "code",
   "execution_count": 189,
   "metadata": {},
   "outputs": [],
   "source": [
    "## 탐색 할 hyper-paramter 를 setting\n",
    "param_grid = {\n",
    "    'pca__n_components': [20, 40, 60, 80, 100, 120, 140], ## Kernel-PCA 파라미터(n_components)\n",
    "    'pca__degree': [2, 3, 4, 5], ## Kernel-PCA 파라미터(degree)\n",
    "    'svc__C': [1e-1, 2e-1, 3e-1, 4e-1, 5e-1, 6e-1, 7e-1, 8e-1, 9e-1, 1, 2, 3, 4, 5, 6, 7, 8, 9, 1e1], ## SVM 파라미터\n",
    "} "
   ]
  },
  {
   "cell_type": "code",
   "execution_count": 190,
   "metadata": {},
   "outputs": [],
   "source": [
    "clf = GridSearchCV(pipe, param_grid=param_grid)"
   ]
  },
  {
   "cell_type": "code",
   "execution_count": 191,
   "metadata": {},
   "outputs": [
    {
     "name": "stdout",
     "output_type": "stream",
     "text": [
      "Wall time: 1min 41s\n"
     ]
    }
   ],
   "source": [
    "%%time\n",
    "clf = clf.fit(X_train, y_train) "
   ]
  },
  {
   "cell_type": "code",
   "execution_count": 192,
   "metadata": {},
   "outputs": [
    {
     "name": "stdout",
     "output_type": "stream",
     "text": [
      "Grid Search를 이용하여 탐색한 Best hyper-parameter\n",
      "Pipeline(steps=[('pca', KernelPCA(degree=2, kernel='poly', n_components=60)),\n",
      "                ('svc', SVC(C=2, class_weight='balanced'))])\n"
     ]
    }
   ],
   "source": [
    "print(\"Grid Search를 이용하여 탐색한 Best hyper-parameter\") \n",
    "print(clf.best_estimator_) "
   ]
  },
  {
   "cell_type": "code",
   "execution_count": 193,
   "metadata": {},
   "outputs": [],
   "source": [
    "## 결과를 Dataframe으로 도출\n",
    "summary = pd.concat([pd.DataFrame(clf.cv_results_[\"params\"]),pd.DataFrame(clf.cv_results_[\"mean_test_score\"], columns=[\"Accuracy\"])],axis=1)"
   ]
  },
  {
   "cell_type": "code",
   "execution_count": 194,
   "metadata": {
    "scrolled": false
   },
   "outputs": [
    {
     "data": {
      "application/vnd.plotly.v1+json": {
       "config": {
        "plotlyServerURL": "https://plot.ly"
       },
       "data": [
        {
         "alignmentgroup": "True",
         "hovertemplate": "svc__C=0.1<br>pca__n_components=%{marker.color}<br>Accuracy=%{y}<extra></extra>",
         "ids": [
          20,
          40,
          60,
          80,
          100,
          120,
          140,
          20,
          40,
          60,
          80,
          100,
          120,
          140,
          20,
          40,
          60,
          80,
          100,
          120,
          140,
          20,
          40,
          60,
          80,
          100,
          120,
          140
         ],
         "legendgroup": "",
         "marker": {
          "color": [
           20,
           40,
           60,
           80,
           100,
           120,
           140,
           20,
           40,
           60,
           80,
           100,
           120,
           140,
           20,
           40,
           60,
           80,
           100,
           120,
           140,
           20,
           40,
           60,
           80,
           100,
           120,
           140
          ],
          "coloraxis": "coloraxis"
         },
         "name": "",
         "offsetgroup": "",
         "orientation": "v",
         "showlegend": false,
         "textposition": "auto",
         "type": "bar",
         "x": [
          20,
          40,
          60,
          80,
          100,
          120,
          140,
          20,
          40,
          60,
          80,
          100,
          120,
          140,
          20,
          40,
          60,
          80,
          100,
          120,
          140,
          20,
          40,
          60,
          80,
          100,
          120,
          140
         ],
         "xaxis": "x",
         "y": [
          0.7350000000000001,
          0.7699999999999999,
          0.795,
          0.805,
          0.805,
          0.805,
          0.805,
          0.7150000000000001,
          0.76,
          0.785,
          0.7899999999999999,
          0.7949999999999999,
          0.7949999999999999,
          0.7949999999999999,
          0.7200000000000001,
          0.7449999999999999,
          0.78,
          0.78,
          0.78,
          0.78,
          0.7849999999999999,
          0.7050000000000001,
          0.755,
          0.7699999999999999,
          0.775,
          0.775,
          0.775,
          0.775
         ],
         "yaxis": "y"
        }
       ],
       "frames": [
        {
         "data": [
          {
           "alignmentgroup": "True",
           "hovertemplate": "svc__C=0.1<br>pca__n_components=%{marker.color}<br>Accuracy=%{y}<extra></extra>",
           "ids": [
            20,
            40,
            60,
            80,
            100,
            120,
            140,
            20,
            40,
            60,
            80,
            100,
            120,
            140,
            20,
            40,
            60,
            80,
            100,
            120,
            140,
            20,
            40,
            60,
            80,
            100,
            120,
            140
           ],
           "legendgroup": "",
           "marker": {
            "color": [
             20,
             40,
             60,
             80,
             100,
             120,
             140,
             20,
             40,
             60,
             80,
             100,
             120,
             140,
             20,
             40,
             60,
             80,
             100,
             120,
             140,
             20,
             40,
             60,
             80,
             100,
             120,
             140
            ],
            "coloraxis": "coloraxis"
           },
           "name": "",
           "offsetgroup": "",
           "orientation": "v",
           "showlegend": false,
           "textposition": "auto",
           "type": "bar",
           "x": [
            20,
            40,
            60,
            80,
            100,
            120,
            140,
            20,
            40,
            60,
            80,
            100,
            120,
            140,
            20,
            40,
            60,
            80,
            100,
            120,
            140,
            20,
            40,
            60,
            80,
            100,
            120,
            140
           ],
           "xaxis": "x",
           "y": [
            0.7350000000000001,
            0.7699999999999999,
            0.795,
            0.805,
            0.805,
            0.805,
            0.805,
            0.7150000000000001,
            0.76,
            0.785,
            0.7899999999999999,
            0.7949999999999999,
            0.7949999999999999,
            0.7949999999999999,
            0.7200000000000001,
            0.7449999999999999,
            0.78,
            0.78,
            0.78,
            0.78,
            0.7849999999999999,
            0.7050000000000001,
            0.755,
            0.7699999999999999,
            0.775,
            0.775,
            0.775,
            0.775
           ],
           "yaxis": "y"
          }
         ],
         "name": "0.1"
        },
        {
         "data": [
          {
           "alignmentgroup": "True",
           "hovertemplate": "svc__C=0.2<br>pca__n_components=%{marker.color}<br>Accuracy=%{y}<extra></extra>",
           "ids": [
            20,
            40,
            60,
            80,
            100,
            120,
            140,
            20,
            40,
            60,
            80,
            100,
            120,
            140,
            20,
            40,
            60,
            80,
            100,
            120,
            140,
            20,
            40,
            60,
            80,
            100,
            120,
            140
           ],
           "legendgroup": "",
           "marker": {
            "color": [
             20,
             40,
             60,
             80,
             100,
             120,
             140,
             20,
             40,
             60,
             80,
             100,
             120,
             140,
             20,
             40,
             60,
             80,
             100,
             120,
             140,
             20,
             40,
             60,
             80,
             100,
             120,
             140
            ],
            "coloraxis": "coloraxis"
           },
           "name": "",
           "offsetgroup": "",
           "orientation": "v",
           "showlegend": false,
           "textposition": "auto",
           "type": "bar",
           "x": [
            20,
            40,
            60,
            80,
            100,
            120,
            140,
            20,
            40,
            60,
            80,
            100,
            120,
            140,
            20,
            40,
            60,
            80,
            100,
            120,
            140,
            20,
            40,
            60,
            80,
            100,
            120,
            140
           ],
           "xaxis": "x",
           "y": [
            0.7350000000000001,
            0.7699999999999999,
            0.795,
            0.805,
            0.805,
            0.805,
            0.805,
            0.7150000000000001,
            0.76,
            0.785,
            0.7899999999999999,
            0.7949999999999999,
            0.7949999999999999,
            0.7949999999999999,
            0.7200000000000001,
            0.7449999999999999,
            0.78,
            0.78,
            0.78,
            0.78,
            0.7849999999999999,
            0.7050000000000001,
            0.755,
            0.7699999999999999,
            0.775,
            0.775,
            0.775,
            0.775
           ],
           "yaxis": "y"
          }
         ],
         "name": "0.2"
        },
        {
         "data": [
          {
           "alignmentgroup": "True",
           "hovertemplate": "svc__C=0.3<br>pca__n_components=%{marker.color}<br>Accuracy=%{y}<extra></extra>",
           "ids": [
            20,
            40,
            60,
            80,
            100,
            120,
            140,
            20,
            40,
            60,
            80,
            100,
            120,
            140,
            20,
            40,
            60,
            80,
            100,
            120,
            140,
            20,
            40,
            60,
            80,
            100,
            120,
            140
           ],
           "legendgroup": "",
           "marker": {
            "color": [
             20,
             40,
             60,
             80,
             100,
             120,
             140,
             20,
             40,
             60,
             80,
             100,
             120,
             140,
             20,
             40,
             60,
             80,
             100,
             120,
             140,
             20,
             40,
             60,
             80,
             100,
             120,
             140
            ],
            "coloraxis": "coloraxis"
           },
           "name": "",
           "offsetgroup": "",
           "orientation": "v",
           "showlegend": false,
           "textposition": "auto",
           "type": "bar",
           "x": [
            20,
            40,
            60,
            80,
            100,
            120,
            140,
            20,
            40,
            60,
            80,
            100,
            120,
            140,
            20,
            40,
            60,
            80,
            100,
            120,
            140,
            20,
            40,
            60,
            80,
            100,
            120,
            140
           ],
           "xaxis": "x",
           "y": [
            0.7350000000000001,
            0.7699999999999999,
            0.795,
            0.805,
            0.805,
            0.805,
            0.805,
            0.7150000000000001,
            0.76,
            0.785,
            0.7899999999999999,
            0.7949999999999999,
            0.7949999999999999,
            0.7949999999999999,
            0.7200000000000001,
            0.7449999999999999,
            0.78,
            0.78,
            0.78,
            0.78,
            0.7849999999999999,
            0.7050000000000001,
            0.755,
            0.7699999999999999,
            0.775,
            0.775,
            0.775,
            0.775
           ],
           "yaxis": "y"
          }
         ],
         "name": "0.3"
        },
        {
         "data": [
          {
           "alignmentgroup": "True",
           "hovertemplate": "svc__C=0.4<br>pca__n_components=%{marker.color}<br>Accuracy=%{y}<extra></extra>",
           "ids": [
            20,
            40,
            60,
            80,
            100,
            120,
            140,
            20,
            40,
            60,
            80,
            100,
            120,
            140,
            20,
            40,
            60,
            80,
            100,
            120,
            140,
            20,
            40,
            60,
            80,
            100,
            120,
            140
           ],
           "legendgroup": "",
           "marker": {
            "color": [
             20,
             40,
             60,
             80,
             100,
             120,
             140,
             20,
             40,
             60,
             80,
             100,
             120,
             140,
             20,
             40,
             60,
             80,
             100,
             120,
             140,
             20,
             40,
             60,
             80,
             100,
             120,
             140
            ],
            "coloraxis": "coloraxis"
           },
           "name": "",
           "offsetgroup": "",
           "orientation": "v",
           "showlegend": false,
           "textposition": "auto",
           "type": "bar",
           "x": [
            20,
            40,
            60,
            80,
            100,
            120,
            140,
            20,
            40,
            60,
            80,
            100,
            120,
            140,
            20,
            40,
            60,
            80,
            100,
            120,
            140,
            20,
            40,
            60,
            80,
            100,
            120,
            140
           ],
           "xaxis": "x",
           "y": [
            0.7350000000000001,
            0.7699999999999999,
            0.795,
            0.805,
            0.805,
            0.805,
            0.805,
            0.7150000000000001,
            0.76,
            0.785,
            0.7899999999999999,
            0.7949999999999999,
            0.7949999999999999,
            0.7949999999999999,
            0.7200000000000001,
            0.7449999999999999,
            0.78,
            0.78,
            0.78,
            0.78,
            0.7849999999999999,
            0.7050000000000001,
            0.755,
            0.7699999999999999,
            0.775,
            0.775,
            0.775,
            0.775
           ],
           "yaxis": "y"
          }
         ],
         "name": "0.4"
        },
        {
         "data": [
          {
           "alignmentgroup": "True",
           "hovertemplate": "svc__C=0.5<br>pca__n_components=%{marker.color}<br>Accuracy=%{y}<extra></extra>",
           "ids": [
            20,
            40,
            60,
            80,
            100,
            120,
            140,
            20,
            40,
            60,
            80,
            100,
            120,
            140,
            20,
            40,
            60,
            80,
            100,
            120,
            140,
            20,
            40,
            60,
            80,
            100,
            120,
            140
           ],
           "legendgroup": "",
           "marker": {
            "color": [
             20,
             40,
             60,
             80,
             100,
             120,
             140,
             20,
             40,
             60,
             80,
             100,
             120,
             140,
             20,
             40,
             60,
             80,
             100,
             120,
             140,
             20,
             40,
             60,
             80,
             100,
             120,
             140
            ],
            "coloraxis": "coloraxis"
           },
           "name": "",
           "offsetgroup": "",
           "orientation": "v",
           "showlegend": false,
           "textposition": "auto",
           "type": "bar",
           "x": [
            20,
            40,
            60,
            80,
            100,
            120,
            140,
            20,
            40,
            60,
            80,
            100,
            120,
            140,
            20,
            40,
            60,
            80,
            100,
            120,
            140,
            20,
            40,
            60,
            80,
            100,
            120,
            140
           ],
           "xaxis": "x",
           "y": [
            0.7350000000000001,
            0.7699999999999999,
            0.795,
            0.805,
            0.805,
            0.805,
            0.805,
            0.7150000000000001,
            0.76,
            0.785,
            0.7899999999999999,
            0.7949999999999999,
            0.7949999999999999,
            0.7949999999999999,
            0.7200000000000001,
            0.7449999999999999,
            0.78,
            0.78,
            0.78,
            0.78,
            0.7849999999999999,
            0.7050000000000001,
            0.755,
            0.7699999999999999,
            0.775,
            0.775,
            0.775,
            0.775
           ],
           "yaxis": "y"
          }
         ],
         "name": "0.5"
        },
        {
         "data": [
          {
           "alignmentgroup": "True",
           "hovertemplate": "svc__C=0.6<br>pca__n_components=%{marker.color}<br>Accuracy=%{y}<extra></extra>",
           "ids": [
            20,
            40,
            60,
            80,
            100,
            120,
            140,
            20,
            40,
            60,
            80,
            100,
            120,
            140,
            20,
            40,
            60,
            80,
            100,
            120,
            140,
            20,
            40,
            60,
            80,
            100,
            120,
            140
           ],
           "legendgroup": "",
           "marker": {
            "color": [
             20,
             40,
             60,
             80,
             100,
             120,
             140,
             20,
             40,
             60,
             80,
             100,
             120,
             140,
             20,
             40,
             60,
             80,
             100,
             120,
             140,
             20,
             40,
             60,
             80,
             100,
             120,
             140
            ],
            "coloraxis": "coloraxis"
           },
           "name": "",
           "offsetgroup": "",
           "orientation": "v",
           "showlegend": false,
           "textposition": "auto",
           "type": "bar",
           "x": [
            20,
            40,
            60,
            80,
            100,
            120,
            140,
            20,
            40,
            60,
            80,
            100,
            120,
            140,
            20,
            40,
            60,
            80,
            100,
            120,
            140,
            20,
            40,
            60,
            80,
            100,
            120,
            140
           ],
           "xaxis": "x",
           "y": [
            0.74,
            0.77,
            0.8049999999999999,
            0.8099999999999999,
            0.805,
            0.805,
            0.805,
            0.7150000000000001,
            0.7699999999999999,
            0.8,
            0.7949999999999999,
            0.7949999999999999,
            0.7949999999999999,
            0.7949999999999999,
            0.7200000000000001,
            0.755,
            0.7849999999999999,
            0.79,
            0.785,
            0.785,
            0.79,
            0.7050000000000001,
            0.76,
            0.775,
            0.775,
            0.78,
            0.775,
            0.775
           ],
           "yaxis": "y"
          }
         ],
         "name": "0.6"
        },
        {
         "data": [
          {
           "alignmentgroup": "True",
           "hovertemplate": "svc__C=0.7<br>pca__n_components=%{marker.color}<br>Accuracy=%{y}<extra></extra>",
           "ids": [
            20,
            40,
            60,
            80,
            100,
            120,
            140,
            20,
            40,
            60,
            80,
            100,
            120,
            140,
            20,
            40,
            60,
            80,
            100,
            120,
            140,
            20,
            40,
            60,
            80,
            100,
            120,
            140
           ],
           "legendgroup": "",
           "marker": {
            "color": [
             20,
             40,
             60,
             80,
             100,
             120,
             140,
             20,
             40,
             60,
             80,
             100,
             120,
             140,
             20,
             40,
             60,
             80,
             100,
             120,
             140,
             20,
             40,
             60,
             80,
             100,
             120,
             140
            ],
            "coloraxis": "coloraxis"
           },
           "name": "",
           "offsetgroup": "",
           "orientation": "v",
           "showlegend": false,
           "textposition": "auto",
           "type": "bar",
           "x": [
            20,
            40,
            60,
            80,
            100,
            120,
            140,
            20,
            40,
            60,
            80,
            100,
            120,
            140,
            20,
            40,
            60,
            80,
            100,
            120,
            140,
            20,
            40,
            60,
            80,
            100,
            120,
            140
           ],
           "xaxis": "x",
           "y": [
            0.745,
            0.7899999999999999,
            0.8099999999999999,
            0.8099999999999999,
            0.8099999999999999,
            0.8099999999999999,
            0.8099999999999999,
            0.725,
            0.78,
            0.8,
            0.79,
            0.8,
            0.8,
            0.8,
            0.7300000000000001,
            0.775,
            0.79,
            0.79,
            0.79,
            0.79,
            0.7950000000000002,
            0.7150000000000001,
            0.7699999999999999,
            0.775,
            0.78,
            0.78,
            0.78,
            0.79
           ],
           "yaxis": "y"
          }
         ],
         "name": "0.7"
        },
        {
         "data": [
          {
           "alignmentgroup": "True",
           "hovertemplate": "svc__C=0.8<br>pca__n_components=%{marker.color}<br>Accuracy=%{y}<extra></extra>",
           "ids": [
            20,
            40,
            60,
            80,
            100,
            120,
            140,
            20,
            40,
            60,
            80,
            100,
            120,
            140,
            20,
            40,
            60,
            80,
            100,
            120,
            140,
            20,
            40,
            60,
            80,
            100,
            120,
            140
           ],
           "legendgroup": "",
           "marker": {
            "color": [
             20,
             40,
             60,
             80,
             100,
             120,
             140,
             20,
             40,
             60,
             80,
             100,
             120,
             140,
             20,
             40,
             60,
             80,
             100,
             120,
             140,
             20,
             40,
             60,
             80,
             100,
             120,
             140
            ],
            "coloraxis": "coloraxis"
           },
           "name": "",
           "offsetgroup": "",
           "orientation": "v",
           "showlegend": false,
           "textposition": "auto",
           "type": "bar",
           "x": [
            20,
            40,
            60,
            80,
            100,
            120,
            140,
            20,
            40,
            60,
            80,
            100,
            120,
            140,
            20,
            40,
            60,
            80,
            100,
            120,
            140,
            20,
            40,
            60,
            80,
            100,
            120,
            140
           ],
           "xaxis": "x",
           "y": [
            0.76,
            0.805,
            0.8150000000000001,
            0.8200000000000001,
            0.8200000000000001,
            0.8200000000000001,
            0.825,
            0.7350000000000001,
            0.785,
            0.8,
            0.8,
            0.7950000000000002,
            0.7950000000000002,
            0.8,
            0.735,
            0.78,
            0.79,
            0.79,
            0.7950000000000002,
            0.7950000000000002,
            0.7950000000000002,
            0.725,
            0.7699999999999999,
            0.7849999999999999,
            0.79,
            0.79,
            0.79,
            0.79
           ],
           "yaxis": "y"
          }
         ],
         "name": "0.8"
        },
        {
         "data": [
          {
           "alignmentgroup": "True",
           "hovertemplate": "svc__C=0.9<br>pca__n_components=%{marker.color}<br>Accuracy=%{y}<extra></extra>",
           "ids": [
            20,
            40,
            60,
            80,
            100,
            120,
            140,
            20,
            40,
            60,
            80,
            100,
            120,
            140,
            20,
            40,
            60,
            80,
            100,
            120,
            140,
            20,
            40,
            60,
            80,
            100,
            120,
            140
           ],
           "legendgroup": "",
           "marker": {
            "color": [
             20,
             40,
             60,
             80,
             100,
             120,
             140,
             20,
             40,
             60,
             80,
             100,
             120,
             140,
             20,
             40,
             60,
             80,
             100,
             120,
             140,
             20,
             40,
             60,
             80,
             100,
             120,
             140
            ],
            "coloraxis": "coloraxis"
           },
           "name": "",
           "offsetgroup": "",
           "orientation": "v",
           "showlegend": false,
           "textposition": "auto",
           "type": "bar",
           "x": [
            20,
            40,
            60,
            80,
            100,
            120,
            140,
            20,
            40,
            60,
            80,
            100,
            120,
            140,
            20,
            40,
            60,
            80,
            100,
            120,
            140,
            20,
            40,
            60,
            80,
            100,
            120,
            140
           ],
           "xaxis": "x",
           "y": [
            0.7649999999999999,
            0.825,
            0.8400000000000001,
            0.8400000000000001,
            0.8450000000000001,
            0.8450000000000001,
            0.8400000000000001,
            0.75,
            0.7899999999999999,
            0.8200000000000001,
            0.8099999999999999,
            0.805,
            0.805,
            0.8099999999999999,
            0.735,
            0.7849999999999999,
            0.805,
            0.8,
            0.8,
            0.8,
            0.8,
            0.735,
            0.7749999999999999,
            0.7949999999999999,
            0.7949999999999999,
            0.8,
            0.8,
            0.8
           ],
           "yaxis": "y"
          }
         ],
         "name": "0.9"
        },
        {
         "data": [
          {
           "alignmentgroup": "True",
           "hovertemplate": "svc__C=1.0<br>pca__n_components=%{marker.color}<br>Accuracy=%{y}<extra></extra>",
           "ids": [
            20,
            40,
            60,
            80,
            100,
            120,
            140,
            20,
            40,
            60,
            80,
            100,
            120,
            140,
            20,
            40,
            60,
            80,
            100,
            120,
            140,
            20,
            40,
            60,
            80,
            100,
            120,
            140
           ],
           "legendgroup": "",
           "marker": {
            "color": [
             20,
             40,
             60,
             80,
             100,
             120,
             140,
             20,
             40,
             60,
             80,
             100,
             120,
             140,
             20,
             40,
             60,
             80,
             100,
             120,
             140,
             20,
             40,
             60,
             80,
             100,
             120,
             140
            ],
            "coloraxis": "coloraxis"
           },
           "name": "",
           "offsetgroup": "",
           "orientation": "v",
           "showlegend": false,
           "textposition": "auto",
           "type": "bar",
           "x": [
            20,
            40,
            60,
            80,
            100,
            120,
            140,
            20,
            40,
            60,
            80,
            100,
            120,
            140,
            20,
            40,
            60,
            80,
            100,
            120,
            140,
            20,
            40,
            60,
            80,
            100,
            120,
            140
           ],
           "xaxis": "x",
           "y": [
            0.7749999999999999,
            0.8200000000000001,
            0.845,
            0.85,
            0.85,
            0.8450000000000001,
            0.845,
            0.755,
            0.805,
            0.8299999999999998,
            0.8400000000000001,
            0.8400000000000001,
            0.8400000000000001,
            0.835,
            0.74,
            0.7899999999999999,
            0.8100000000000002,
            0.82,
            0.8150000000000001,
            0.8100000000000002,
            0.8100000000000002,
            0.74,
            0.7899999999999999,
            0.8,
            0.805,
            0.8,
            0.805,
            0.805
           ],
           "yaxis": "y"
          }
         ],
         "name": "1.0"
        },
        {
         "data": [
          {
           "alignmentgroup": "True",
           "hovertemplate": "svc__C=2.0<br>pca__n_components=%{marker.color}<br>Accuracy=%{y}<extra></extra>",
           "ids": [
            20,
            40,
            60,
            80,
            100,
            120,
            140,
            20,
            40,
            60,
            80,
            100,
            120,
            140,
            20,
            40,
            60,
            80,
            100,
            120,
            140,
            20,
            40,
            60,
            80,
            100,
            120,
            140
           ],
           "legendgroup": "",
           "marker": {
            "color": [
             20,
             40,
             60,
             80,
             100,
             120,
             140,
             20,
             40,
             60,
             80,
             100,
             120,
             140,
             20,
             40,
             60,
             80,
             100,
             120,
             140,
             20,
             40,
             60,
             80,
             100,
             120,
             140
            ],
            "coloraxis": "coloraxis"
           },
           "name": "",
           "offsetgroup": "",
           "orientation": "v",
           "showlegend": false,
           "textposition": "auto",
           "type": "bar",
           "x": [
            20,
            40,
            60,
            80,
            100,
            120,
            140,
            20,
            40,
            60,
            80,
            100,
            120,
            140,
            20,
            40,
            60,
            80,
            100,
            120,
            140,
            20,
            40,
            60,
            80,
            100,
            120,
            140
           ],
           "xaxis": "x",
           "y": [
            0.85,
            0.8550000000000001,
            0.8800000000000001,
            0.8800000000000001,
            0.8800000000000001,
            0.8800000000000001,
            0.8800000000000001,
            0.835,
            0.8550000000000001,
            0.8699999999999999,
            0.875,
            0.875,
            0.875,
            0.875,
            0.8299999999999998,
            0.86,
            0.865,
            0.865,
            0.8699999999999999,
            0.8699999999999999,
            0.865,
            0.8149999999999998,
            0.85,
            0.8600000000000001,
            0.865,
            0.865,
            0.865,
            0.865
           ],
           "yaxis": "y"
          }
         ],
         "name": "2.0"
        },
        {
         "data": [
          {
           "alignmentgroup": "True",
           "hovertemplate": "svc__C=3.0<br>pca__n_components=%{marker.color}<br>Accuracy=%{y}<extra></extra>",
           "ids": [
            20,
            40,
            60,
            80,
            100,
            120,
            140,
            20,
            40,
            60,
            80,
            100,
            120,
            140,
            20,
            40,
            60,
            80,
            100,
            120,
            140,
            20,
            40,
            60,
            80,
            100,
            120,
            140
           ],
           "legendgroup": "",
           "marker": {
            "color": [
             20,
             40,
             60,
             80,
             100,
             120,
             140,
             20,
             40,
             60,
             80,
             100,
             120,
             140,
             20,
             40,
             60,
             80,
             100,
             120,
             140,
             20,
             40,
             60,
             80,
             100,
             120,
             140
            ],
            "coloraxis": "coloraxis"
           },
           "name": "",
           "offsetgroup": "",
           "orientation": "v",
           "showlegend": false,
           "textposition": "auto",
           "type": "bar",
           "x": [
            20,
            40,
            60,
            80,
            100,
            120,
            140,
            20,
            40,
            60,
            80,
            100,
            120,
            140,
            20,
            40,
            60,
            80,
            100,
            120,
            140,
            20,
            40,
            60,
            80,
            100,
            120,
            140
           ],
           "xaxis": "x",
           "y": [
            0.8550000000000001,
            0.8699999999999999,
            0.8800000000000001,
            0.8800000000000001,
            0.8800000000000001,
            0.8800000000000001,
            0.8800000000000001,
            0.85,
            0.86,
            0.875,
            0.875,
            0.875,
            0.875,
            0.875,
            0.835,
            0.86,
            0.875,
            0.8699999999999999,
            0.8699999999999999,
            0.8699999999999999,
            0.865,
            0.8299999999999998,
            0.8699999999999999,
            0.875,
            0.875,
            0.8699999999999999,
            0.8699999999999999,
            0.8699999999999999
           ],
           "yaxis": "y"
          }
         ],
         "name": "3.0"
        },
        {
         "data": [
          {
           "alignmentgroup": "True",
           "hovertemplate": "svc__C=4.0<br>pca__n_components=%{marker.color}<br>Accuracy=%{y}<extra></extra>",
           "ids": [
            20,
            40,
            60,
            80,
            100,
            120,
            140,
            20,
            40,
            60,
            80,
            100,
            120,
            140,
            20,
            40,
            60,
            80,
            100,
            120,
            140,
            20,
            40,
            60,
            80,
            100,
            120,
            140
           ],
           "legendgroup": "",
           "marker": {
            "color": [
             20,
             40,
             60,
             80,
             100,
             120,
             140,
             20,
             40,
             60,
             80,
             100,
             120,
             140,
             20,
             40,
             60,
             80,
             100,
             120,
             140,
             20,
             40,
             60,
             80,
             100,
             120,
             140
            ],
            "coloraxis": "coloraxis"
           },
           "name": "",
           "offsetgroup": "",
           "orientation": "v",
           "showlegend": false,
           "textposition": "auto",
           "type": "bar",
           "x": [
            20,
            40,
            60,
            80,
            100,
            120,
            140,
            20,
            40,
            60,
            80,
            100,
            120,
            140,
            20,
            40,
            60,
            80,
            100,
            120,
            140,
            20,
            40,
            60,
            80,
            100,
            120,
            140
           ],
           "xaxis": "x",
           "y": [
            0.8600000000000001,
            0.8699999999999999,
            0.8800000000000001,
            0.8800000000000001,
            0.8800000000000001,
            0.8800000000000001,
            0.8800000000000001,
            0.8600000000000001,
            0.86,
            0.875,
            0.875,
            0.875,
            0.875,
            0.875,
            0.85,
            0.86,
            0.875,
            0.8699999999999999,
            0.8699999999999999,
            0.8699999999999999,
            0.865,
            0.8400000000000001,
            0.8699999999999999,
            0.875,
            0.875,
            0.8699999999999999,
            0.8699999999999999,
            0.8699999999999999
           ],
           "yaxis": "y"
          }
         ],
         "name": "4.0"
        },
        {
         "data": [
          {
           "alignmentgroup": "True",
           "hovertemplate": "svc__C=5.0<br>pca__n_components=%{marker.color}<br>Accuracy=%{y}<extra></extra>",
           "ids": [
            20,
            40,
            60,
            80,
            100,
            120,
            140,
            20,
            40,
            60,
            80,
            100,
            120,
            140,
            20,
            40,
            60,
            80,
            100,
            120,
            140,
            20,
            40,
            60,
            80,
            100,
            120,
            140
           ],
           "legendgroup": "",
           "marker": {
            "color": [
             20,
             40,
             60,
             80,
             100,
             120,
             140,
             20,
             40,
             60,
             80,
             100,
             120,
             140,
             20,
             40,
             60,
             80,
             100,
             120,
             140,
             20,
             40,
             60,
             80,
             100,
             120,
             140
            ],
            "coloraxis": "coloraxis"
           },
           "name": "",
           "offsetgroup": "",
           "orientation": "v",
           "showlegend": false,
           "textposition": "auto",
           "type": "bar",
           "x": [
            20,
            40,
            60,
            80,
            100,
            120,
            140,
            20,
            40,
            60,
            80,
            100,
            120,
            140,
            20,
            40,
            60,
            80,
            100,
            120,
            140,
            20,
            40,
            60,
            80,
            100,
            120,
            140
           ],
           "xaxis": "x",
           "y": [
            0.8600000000000001,
            0.8699999999999999,
            0.8800000000000001,
            0.8800000000000001,
            0.8800000000000001,
            0.8800000000000001,
            0.8800000000000001,
            0.8600000000000001,
            0.86,
            0.875,
            0.875,
            0.875,
            0.875,
            0.875,
            0.85,
            0.86,
            0.875,
            0.8699999999999999,
            0.8699999999999999,
            0.8699999999999999,
            0.865,
            0.845,
            0.8699999999999999,
            0.875,
            0.875,
            0.8699999999999999,
            0.8699999999999999,
            0.8699999999999999
           ],
           "yaxis": "y"
          }
         ],
         "name": "5.0"
        },
        {
         "data": [
          {
           "alignmentgroup": "True",
           "hovertemplate": "svc__C=6.0<br>pca__n_components=%{marker.color}<br>Accuracy=%{y}<extra></extra>",
           "ids": [
            20,
            40,
            60,
            80,
            100,
            120,
            140,
            20,
            40,
            60,
            80,
            100,
            120,
            140,
            20,
            40,
            60,
            80,
            100,
            120,
            140,
            20,
            40,
            60,
            80,
            100,
            120,
            140
           ],
           "legendgroup": "",
           "marker": {
            "color": [
             20,
             40,
             60,
             80,
             100,
             120,
             140,
             20,
             40,
             60,
             80,
             100,
             120,
             140,
             20,
             40,
             60,
             80,
             100,
             120,
             140,
             20,
             40,
             60,
             80,
             100,
             120,
             140
            ],
            "coloraxis": "coloraxis"
           },
           "name": "",
           "offsetgroup": "",
           "orientation": "v",
           "showlegend": false,
           "textposition": "auto",
           "type": "bar",
           "x": [
            20,
            40,
            60,
            80,
            100,
            120,
            140,
            20,
            40,
            60,
            80,
            100,
            120,
            140,
            20,
            40,
            60,
            80,
            100,
            120,
            140,
            20,
            40,
            60,
            80,
            100,
            120,
            140
           ],
           "xaxis": "x",
           "y": [
            0.8600000000000001,
            0.8699999999999999,
            0.8800000000000001,
            0.8800000000000001,
            0.8800000000000001,
            0.8800000000000001,
            0.8800000000000001,
            0.8600000000000001,
            0.86,
            0.875,
            0.875,
            0.875,
            0.875,
            0.875,
            0.85,
            0.86,
            0.875,
            0.8699999999999999,
            0.8699999999999999,
            0.8699999999999999,
            0.865,
            0.845,
            0.8699999999999999,
            0.875,
            0.875,
            0.8699999999999999,
            0.8699999999999999,
            0.8699999999999999
           ],
           "yaxis": "y"
          }
         ],
         "name": "6.0"
        },
        {
         "data": [
          {
           "alignmentgroup": "True",
           "hovertemplate": "svc__C=7.0<br>pca__n_components=%{marker.color}<br>Accuracy=%{y}<extra></extra>",
           "ids": [
            20,
            40,
            60,
            80,
            100,
            120,
            140,
            20,
            40,
            60,
            80,
            100,
            120,
            140,
            20,
            40,
            60,
            80,
            100,
            120,
            140,
            20,
            40,
            60,
            80,
            100,
            120,
            140
           ],
           "legendgroup": "",
           "marker": {
            "color": [
             20,
             40,
             60,
             80,
             100,
             120,
             140,
             20,
             40,
             60,
             80,
             100,
             120,
             140,
             20,
             40,
             60,
             80,
             100,
             120,
             140,
             20,
             40,
             60,
             80,
             100,
             120,
             140
            ],
            "coloraxis": "coloraxis"
           },
           "name": "",
           "offsetgroup": "",
           "orientation": "v",
           "showlegend": false,
           "textposition": "auto",
           "type": "bar",
           "x": [
            20,
            40,
            60,
            80,
            100,
            120,
            140,
            20,
            40,
            60,
            80,
            100,
            120,
            140,
            20,
            40,
            60,
            80,
            100,
            120,
            140,
            20,
            40,
            60,
            80,
            100,
            120,
            140
           ],
           "xaxis": "x",
           "y": [
            0.8600000000000001,
            0.8699999999999999,
            0.8800000000000001,
            0.8800000000000001,
            0.8800000000000001,
            0.8800000000000001,
            0.8800000000000001,
            0.8600000000000001,
            0.86,
            0.875,
            0.875,
            0.875,
            0.875,
            0.875,
            0.85,
            0.86,
            0.875,
            0.8699999999999999,
            0.8699999999999999,
            0.8699999999999999,
            0.865,
            0.845,
            0.8699999999999999,
            0.875,
            0.875,
            0.8699999999999999,
            0.8699999999999999,
            0.8699999999999999
           ],
           "yaxis": "y"
          }
         ],
         "name": "7.0"
        },
        {
         "data": [
          {
           "alignmentgroup": "True",
           "hovertemplate": "svc__C=8.0<br>pca__n_components=%{marker.color}<br>Accuracy=%{y}<extra></extra>",
           "ids": [
            20,
            40,
            60,
            80,
            100,
            120,
            140,
            20,
            40,
            60,
            80,
            100,
            120,
            140,
            20,
            40,
            60,
            80,
            100,
            120,
            140,
            20,
            40,
            60,
            80,
            100,
            120,
            140
           ],
           "legendgroup": "",
           "marker": {
            "color": [
             20,
             40,
             60,
             80,
             100,
             120,
             140,
             20,
             40,
             60,
             80,
             100,
             120,
             140,
             20,
             40,
             60,
             80,
             100,
             120,
             140,
             20,
             40,
             60,
             80,
             100,
             120,
             140
            ],
            "coloraxis": "coloraxis"
           },
           "name": "",
           "offsetgroup": "",
           "orientation": "v",
           "showlegend": false,
           "textposition": "auto",
           "type": "bar",
           "x": [
            20,
            40,
            60,
            80,
            100,
            120,
            140,
            20,
            40,
            60,
            80,
            100,
            120,
            140,
            20,
            40,
            60,
            80,
            100,
            120,
            140,
            20,
            40,
            60,
            80,
            100,
            120,
            140
           ],
           "xaxis": "x",
           "y": [
            0.8600000000000001,
            0.8699999999999999,
            0.8800000000000001,
            0.8800000000000001,
            0.8800000000000001,
            0.8800000000000001,
            0.8800000000000001,
            0.8600000000000001,
            0.86,
            0.875,
            0.875,
            0.875,
            0.875,
            0.875,
            0.85,
            0.86,
            0.875,
            0.8699999999999999,
            0.8699999999999999,
            0.8699999999999999,
            0.865,
            0.845,
            0.8699999999999999,
            0.875,
            0.875,
            0.8699999999999999,
            0.8699999999999999,
            0.8699999999999999
           ],
           "yaxis": "y"
          }
         ],
         "name": "8.0"
        },
        {
         "data": [
          {
           "alignmentgroup": "True",
           "hovertemplate": "svc__C=9.0<br>pca__n_components=%{marker.color}<br>Accuracy=%{y}<extra></extra>",
           "ids": [
            20,
            40,
            60,
            80,
            100,
            120,
            140,
            20,
            40,
            60,
            80,
            100,
            120,
            140,
            20,
            40,
            60,
            80,
            100,
            120,
            140,
            20,
            40,
            60,
            80,
            100,
            120,
            140
           ],
           "legendgroup": "",
           "marker": {
            "color": [
             20,
             40,
             60,
             80,
             100,
             120,
             140,
             20,
             40,
             60,
             80,
             100,
             120,
             140,
             20,
             40,
             60,
             80,
             100,
             120,
             140,
             20,
             40,
             60,
             80,
             100,
             120,
             140
            ],
            "coloraxis": "coloraxis"
           },
           "name": "",
           "offsetgroup": "",
           "orientation": "v",
           "showlegend": false,
           "textposition": "auto",
           "type": "bar",
           "x": [
            20,
            40,
            60,
            80,
            100,
            120,
            140,
            20,
            40,
            60,
            80,
            100,
            120,
            140,
            20,
            40,
            60,
            80,
            100,
            120,
            140,
            20,
            40,
            60,
            80,
            100,
            120,
            140
           ],
           "xaxis": "x",
           "y": [
            0.8600000000000001,
            0.8699999999999999,
            0.8800000000000001,
            0.8800000000000001,
            0.8800000000000001,
            0.8800000000000001,
            0.8800000000000001,
            0.8600000000000001,
            0.86,
            0.875,
            0.875,
            0.875,
            0.875,
            0.875,
            0.85,
            0.86,
            0.875,
            0.8699999999999999,
            0.8699999999999999,
            0.8699999999999999,
            0.865,
            0.845,
            0.8699999999999999,
            0.875,
            0.875,
            0.8699999999999999,
            0.8699999999999999,
            0.8699999999999999
           ],
           "yaxis": "y"
          }
         ],
         "name": "9.0"
        },
        {
         "data": [
          {
           "alignmentgroup": "True",
           "hovertemplate": "svc__C=10.0<br>pca__n_components=%{marker.color}<br>Accuracy=%{y}<extra></extra>",
           "ids": [
            20,
            40,
            60,
            80,
            100,
            120,
            140,
            20,
            40,
            60,
            80,
            100,
            120,
            140,
            20,
            40,
            60,
            80,
            100,
            120,
            140,
            20,
            40,
            60,
            80,
            100,
            120,
            140
           ],
           "legendgroup": "",
           "marker": {
            "color": [
             20,
             40,
             60,
             80,
             100,
             120,
             140,
             20,
             40,
             60,
             80,
             100,
             120,
             140,
             20,
             40,
             60,
             80,
             100,
             120,
             140,
             20,
             40,
             60,
             80,
             100,
             120,
             140
            ],
            "coloraxis": "coloraxis"
           },
           "name": "",
           "offsetgroup": "",
           "orientation": "v",
           "showlegend": false,
           "textposition": "auto",
           "type": "bar",
           "x": [
            20,
            40,
            60,
            80,
            100,
            120,
            140,
            20,
            40,
            60,
            80,
            100,
            120,
            140,
            20,
            40,
            60,
            80,
            100,
            120,
            140,
            20,
            40,
            60,
            80,
            100,
            120,
            140
           ],
           "xaxis": "x",
           "y": [
            0.8600000000000001,
            0.8699999999999999,
            0.8800000000000001,
            0.8800000000000001,
            0.8800000000000001,
            0.8800000000000001,
            0.8800000000000001,
            0.8600000000000001,
            0.86,
            0.875,
            0.875,
            0.875,
            0.875,
            0.875,
            0.85,
            0.86,
            0.875,
            0.8699999999999999,
            0.8699999999999999,
            0.8699999999999999,
            0.865,
            0.845,
            0.8699999999999999,
            0.875,
            0.875,
            0.8699999999999999,
            0.8699999999999999,
            0.8699999999999999
           ],
           "yaxis": "y"
          }
         ],
         "name": "10.0"
        }
       ],
       "layout": {
        "barmode": "relative",
        "coloraxis": {
         "colorbar": {
          "title": {
           "text": "pca__n_components"
          }
         },
         "colorscale": [
          [
           0,
           "#0d0887"
          ],
          [
           0.1111111111111111,
           "#46039f"
          ],
          [
           0.2222222222222222,
           "#7201a8"
          ],
          [
           0.3333333333333333,
           "#9c179e"
          ],
          [
           0.4444444444444444,
           "#bd3786"
          ],
          [
           0.5555555555555556,
           "#d8576b"
          ],
          [
           0.6666666666666666,
           "#ed7953"
          ],
          [
           0.7777777777777778,
           "#fb9f3a"
          ],
          [
           0.8888888888888888,
           "#fdca26"
          ],
          [
           1,
           "#f0f921"
          ]
         ]
        },
        "legend": {
         "tracegroupgap": 0
        },
        "margin": {
         "t": 60
        },
        "sliders": [
         {
          "active": 0,
          "currentvalue": {
           "prefix": "svc__C="
          },
          "len": 0.9,
          "pad": {
           "b": 10,
           "t": 60
          },
          "steps": [
           {
            "args": [
             [
              "0.1"
             ],
             {
              "frame": {
               "duration": 0,
               "redraw": true
              },
              "fromcurrent": true,
              "mode": "immediate",
              "transition": {
               "duration": 0,
               "easing": "linear"
              }
             }
            ],
            "label": "0.1",
            "method": "animate"
           },
           {
            "args": [
             [
              "0.2"
             ],
             {
              "frame": {
               "duration": 0,
               "redraw": true
              },
              "fromcurrent": true,
              "mode": "immediate",
              "transition": {
               "duration": 0,
               "easing": "linear"
              }
             }
            ],
            "label": "0.2",
            "method": "animate"
           },
           {
            "args": [
             [
              "0.3"
             ],
             {
              "frame": {
               "duration": 0,
               "redraw": true
              },
              "fromcurrent": true,
              "mode": "immediate",
              "transition": {
               "duration": 0,
               "easing": "linear"
              }
             }
            ],
            "label": "0.3",
            "method": "animate"
           },
           {
            "args": [
             [
              "0.4"
             ],
             {
              "frame": {
               "duration": 0,
               "redraw": true
              },
              "fromcurrent": true,
              "mode": "immediate",
              "transition": {
               "duration": 0,
               "easing": "linear"
              }
             }
            ],
            "label": "0.4",
            "method": "animate"
           },
           {
            "args": [
             [
              "0.5"
             ],
             {
              "frame": {
               "duration": 0,
               "redraw": true
              },
              "fromcurrent": true,
              "mode": "immediate",
              "transition": {
               "duration": 0,
               "easing": "linear"
              }
             }
            ],
            "label": "0.5",
            "method": "animate"
           },
           {
            "args": [
             [
              "0.6"
             ],
             {
              "frame": {
               "duration": 0,
               "redraw": true
              },
              "fromcurrent": true,
              "mode": "immediate",
              "transition": {
               "duration": 0,
               "easing": "linear"
              }
             }
            ],
            "label": "0.6",
            "method": "animate"
           },
           {
            "args": [
             [
              "0.7"
             ],
             {
              "frame": {
               "duration": 0,
               "redraw": true
              },
              "fromcurrent": true,
              "mode": "immediate",
              "transition": {
               "duration": 0,
               "easing": "linear"
              }
             }
            ],
            "label": "0.7",
            "method": "animate"
           },
           {
            "args": [
             [
              "0.8"
             ],
             {
              "frame": {
               "duration": 0,
               "redraw": true
              },
              "fromcurrent": true,
              "mode": "immediate",
              "transition": {
               "duration": 0,
               "easing": "linear"
              }
             }
            ],
            "label": "0.8",
            "method": "animate"
           },
           {
            "args": [
             [
              "0.9"
             ],
             {
              "frame": {
               "duration": 0,
               "redraw": true
              },
              "fromcurrent": true,
              "mode": "immediate",
              "transition": {
               "duration": 0,
               "easing": "linear"
              }
             }
            ],
            "label": "0.9",
            "method": "animate"
           },
           {
            "args": [
             [
              "1.0"
             ],
             {
              "frame": {
               "duration": 0,
               "redraw": true
              },
              "fromcurrent": true,
              "mode": "immediate",
              "transition": {
               "duration": 0,
               "easing": "linear"
              }
             }
            ],
            "label": "1.0",
            "method": "animate"
           },
           {
            "args": [
             [
              "2.0"
             ],
             {
              "frame": {
               "duration": 0,
               "redraw": true
              },
              "fromcurrent": true,
              "mode": "immediate",
              "transition": {
               "duration": 0,
               "easing": "linear"
              }
             }
            ],
            "label": "2.0",
            "method": "animate"
           },
           {
            "args": [
             [
              "3.0"
             ],
             {
              "frame": {
               "duration": 0,
               "redraw": true
              },
              "fromcurrent": true,
              "mode": "immediate",
              "transition": {
               "duration": 0,
               "easing": "linear"
              }
             }
            ],
            "label": "3.0",
            "method": "animate"
           },
           {
            "args": [
             [
              "4.0"
             ],
             {
              "frame": {
               "duration": 0,
               "redraw": true
              },
              "fromcurrent": true,
              "mode": "immediate",
              "transition": {
               "duration": 0,
               "easing": "linear"
              }
             }
            ],
            "label": "4.0",
            "method": "animate"
           },
           {
            "args": [
             [
              "5.0"
             ],
             {
              "frame": {
               "duration": 0,
               "redraw": true
              },
              "fromcurrent": true,
              "mode": "immediate",
              "transition": {
               "duration": 0,
               "easing": "linear"
              }
             }
            ],
            "label": "5.0",
            "method": "animate"
           },
           {
            "args": [
             [
              "6.0"
             ],
             {
              "frame": {
               "duration": 0,
               "redraw": true
              },
              "fromcurrent": true,
              "mode": "immediate",
              "transition": {
               "duration": 0,
               "easing": "linear"
              }
             }
            ],
            "label": "6.0",
            "method": "animate"
           },
           {
            "args": [
             [
              "7.0"
             ],
             {
              "frame": {
               "duration": 0,
               "redraw": true
              },
              "fromcurrent": true,
              "mode": "immediate",
              "transition": {
               "duration": 0,
               "easing": "linear"
              }
             }
            ],
            "label": "7.0",
            "method": "animate"
           },
           {
            "args": [
             [
              "8.0"
             ],
             {
              "frame": {
               "duration": 0,
               "redraw": true
              },
              "fromcurrent": true,
              "mode": "immediate",
              "transition": {
               "duration": 0,
               "easing": "linear"
              }
             }
            ],
            "label": "8.0",
            "method": "animate"
           },
           {
            "args": [
             [
              "9.0"
             ],
             {
              "frame": {
               "duration": 0,
               "redraw": true
              },
              "fromcurrent": true,
              "mode": "immediate",
              "transition": {
               "duration": 0,
               "easing": "linear"
              }
             }
            ],
            "label": "9.0",
            "method": "animate"
           },
           {
            "args": [
             [
              "10.0"
             ],
             {
              "frame": {
               "duration": 0,
               "redraw": true
              },
              "fromcurrent": true,
              "mode": "immediate",
              "transition": {
               "duration": 0,
               "easing": "linear"
              }
             }
            ],
            "label": "10.0",
            "method": "animate"
           }
          ],
          "x": 0.1,
          "xanchor": "left",
          "y": 0,
          "yanchor": "top"
         }
        ],
        "template": {
         "data": {
          "bar": [
           {
            "error_x": {
             "color": "#2a3f5f"
            },
            "error_y": {
             "color": "#2a3f5f"
            },
            "marker": {
             "line": {
              "color": "#E5ECF6",
              "width": 0.5
             }
            },
            "type": "bar"
           }
          ],
          "barpolar": [
           {
            "marker": {
             "line": {
              "color": "#E5ECF6",
              "width": 0.5
             }
            },
            "type": "barpolar"
           }
          ],
          "carpet": [
           {
            "aaxis": {
             "endlinecolor": "#2a3f5f",
             "gridcolor": "white",
             "linecolor": "white",
             "minorgridcolor": "white",
             "startlinecolor": "#2a3f5f"
            },
            "baxis": {
             "endlinecolor": "#2a3f5f",
             "gridcolor": "white",
             "linecolor": "white",
             "minorgridcolor": "white",
             "startlinecolor": "#2a3f5f"
            },
            "type": "carpet"
           }
          ],
          "choropleth": [
           {
            "colorbar": {
             "outlinewidth": 0,
             "ticks": ""
            },
            "type": "choropleth"
           }
          ],
          "contour": [
           {
            "colorbar": {
             "outlinewidth": 0,
             "ticks": ""
            },
            "colorscale": [
             [
              0,
              "#0d0887"
             ],
             [
              0.1111111111111111,
              "#46039f"
             ],
             [
              0.2222222222222222,
              "#7201a8"
             ],
             [
              0.3333333333333333,
              "#9c179e"
             ],
             [
              0.4444444444444444,
              "#bd3786"
             ],
             [
              0.5555555555555556,
              "#d8576b"
             ],
             [
              0.6666666666666666,
              "#ed7953"
             ],
             [
              0.7777777777777778,
              "#fb9f3a"
             ],
             [
              0.8888888888888888,
              "#fdca26"
             ],
             [
              1,
              "#f0f921"
             ]
            ],
            "type": "contour"
           }
          ],
          "contourcarpet": [
           {
            "colorbar": {
             "outlinewidth": 0,
             "ticks": ""
            },
            "type": "contourcarpet"
           }
          ],
          "heatmap": [
           {
            "colorbar": {
             "outlinewidth": 0,
             "ticks": ""
            },
            "colorscale": [
             [
              0,
              "#0d0887"
             ],
             [
              0.1111111111111111,
              "#46039f"
             ],
             [
              0.2222222222222222,
              "#7201a8"
             ],
             [
              0.3333333333333333,
              "#9c179e"
             ],
             [
              0.4444444444444444,
              "#bd3786"
             ],
             [
              0.5555555555555556,
              "#d8576b"
             ],
             [
              0.6666666666666666,
              "#ed7953"
             ],
             [
              0.7777777777777778,
              "#fb9f3a"
             ],
             [
              0.8888888888888888,
              "#fdca26"
             ],
             [
              1,
              "#f0f921"
             ]
            ],
            "type": "heatmap"
           }
          ],
          "heatmapgl": [
           {
            "colorbar": {
             "outlinewidth": 0,
             "ticks": ""
            },
            "colorscale": [
             [
              0,
              "#0d0887"
             ],
             [
              0.1111111111111111,
              "#46039f"
             ],
             [
              0.2222222222222222,
              "#7201a8"
             ],
             [
              0.3333333333333333,
              "#9c179e"
             ],
             [
              0.4444444444444444,
              "#bd3786"
             ],
             [
              0.5555555555555556,
              "#d8576b"
             ],
             [
              0.6666666666666666,
              "#ed7953"
             ],
             [
              0.7777777777777778,
              "#fb9f3a"
             ],
             [
              0.8888888888888888,
              "#fdca26"
             ],
             [
              1,
              "#f0f921"
             ]
            ],
            "type": "heatmapgl"
           }
          ],
          "histogram": [
           {
            "marker": {
             "colorbar": {
              "outlinewidth": 0,
              "ticks": ""
             }
            },
            "type": "histogram"
           }
          ],
          "histogram2d": [
           {
            "colorbar": {
             "outlinewidth": 0,
             "ticks": ""
            },
            "colorscale": [
             [
              0,
              "#0d0887"
             ],
             [
              0.1111111111111111,
              "#46039f"
             ],
             [
              0.2222222222222222,
              "#7201a8"
             ],
             [
              0.3333333333333333,
              "#9c179e"
             ],
             [
              0.4444444444444444,
              "#bd3786"
             ],
             [
              0.5555555555555556,
              "#d8576b"
             ],
             [
              0.6666666666666666,
              "#ed7953"
             ],
             [
              0.7777777777777778,
              "#fb9f3a"
             ],
             [
              0.8888888888888888,
              "#fdca26"
             ],
             [
              1,
              "#f0f921"
             ]
            ],
            "type": "histogram2d"
           }
          ],
          "histogram2dcontour": [
           {
            "colorbar": {
             "outlinewidth": 0,
             "ticks": ""
            },
            "colorscale": [
             [
              0,
              "#0d0887"
             ],
             [
              0.1111111111111111,
              "#46039f"
             ],
             [
              0.2222222222222222,
              "#7201a8"
             ],
             [
              0.3333333333333333,
              "#9c179e"
             ],
             [
              0.4444444444444444,
              "#bd3786"
             ],
             [
              0.5555555555555556,
              "#d8576b"
             ],
             [
              0.6666666666666666,
              "#ed7953"
             ],
             [
              0.7777777777777778,
              "#fb9f3a"
             ],
             [
              0.8888888888888888,
              "#fdca26"
             ],
             [
              1,
              "#f0f921"
             ]
            ],
            "type": "histogram2dcontour"
           }
          ],
          "mesh3d": [
           {
            "colorbar": {
             "outlinewidth": 0,
             "ticks": ""
            },
            "type": "mesh3d"
           }
          ],
          "parcoords": [
           {
            "line": {
             "colorbar": {
              "outlinewidth": 0,
              "ticks": ""
             }
            },
            "type": "parcoords"
           }
          ],
          "pie": [
           {
            "automargin": true,
            "type": "pie"
           }
          ],
          "scatter": [
           {
            "marker": {
             "colorbar": {
              "outlinewidth": 0,
              "ticks": ""
             }
            },
            "type": "scatter"
           }
          ],
          "scatter3d": [
           {
            "line": {
             "colorbar": {
              "outlinewidth": 0,
              "ticks": ""
             }
            },
            "marker": {
             "colorbar": {
              "outlinewidth": 0,
              "ticks": ""
             }
            },
            "type": "scatter3d"
           }
          ],
          "scattercarpet": [
           {
            "marker": {
             "colorbar": {
              "outlinewidth": 0,
              "ticks": ""
             }
            },
            "type": "scattercarpet"
           }
          ],
          "scattergeo": [
           {
            "marker": {
             "colorbar": {
              "outlinewidth": 0,
              "ticks": ""
             }
            },
            "type": "scattergeo"
           }
          ],
          "scattergl": [
           {
            "marker": {
             "colorbar": {
              "outlinewidth": 0,
              "ticks": ""
             }
            },
            "type": "scattergl"
           }
          ],
          "scattermapbox": [
           {
            "marker": {
             "colorbar": {
              "outlinewidth": 0,
              "ticks": ""
             }
            },
            "type": "scattermapbox"
           }
          ],
          "scatterpolar": [
           {
            "marker": {
             "colorbar": {
              "outlinewidth": 0,
              "ticks": ""
             }
            },
            "type": "scatterpolar"
           }
          ],
          "scatterpolargl": [
           {
            "marker": {
             "colorbar": {
              "outlinewidth": 0,
              "ticks": ""
             }
            },
            "type": "scatterpolargl"
           }
          ],
          "scatterternary": [
           {
            "marker": {
             "colorbar": {
              "outlinewidth": 0,
              "ticks": ""
             }
            },
            "type": "scatterternary"
           }
          ],
          "surface": [
           {
            "colorbar": {
             "outlinewidth": 0,
             "ticks": ""
            },
            "colorscale": [
             [
              0,
              "#0d0887"
             ],
             [
              0.1111111111111111,
              "#46039f"
             ],
             [
              0.2222222222222222,
              "#7201a8"
             ],
             [
              0.3333333333333333,
              "#9c179e"
             ],
             [
              0.4444444444444444,
              "#bd3786"
             ],
             [
              0.5555555555555556,
              "#d8576b"
             ],
             [
              0.6666666666666666,
              "#ed7953"
             ],
             [
              0.7777777777777778,
              "#fb9f3a"
             ],
             [
              0.8888888888888888,
              "#fdca26"
             ],
             [
              1,
              "#f0f921"
             ]
            ],
            "type": "surface"
           }
          ],
          "table": [
           {
            "cells": {
             "fill": {
              "color": "#EBF0F8"
             },
             "line": {
              "color": "white"
             }
            },
            "header": {
             "fill": {
              "color": "#C8D4E3"
             },
             "line": {
              "color": "white"
             }
            },
            "type": "table"
           }
          ]
         },
         "layout": {
          "annotationdefaults": {
           "arrowcolor": "#2a3f5f",
           "arrowhead": 0,
           "arrowwidth": 1
          },
          "coloraxis": {
           "colorbar": {
            "outlinewidth": 0,
            "ticks": ""
           }
          },
          "colorscale": {
           "diverging": [
            [
             0,
             "#8e0152"
            ],
            [
             0.1,
             "#c51b7d"
            ],
            [
             0.2,
             "#de77ae"
            ],
            [
             0.3,
             "#f1b6da"
            ],
            [
             0.4,
             "#fde0ef"
            ],
            [
             0.5,
             "#f7f7f7"
            ],
            [
             0.6,
             "#e6f5d0"
            ],
            [
             0.7,
             "#b8e186"
            ],
            [
             0.8,
             "#7fbc41"
            ],
            [
             0.9,
             "#4d9221"
            ],
            [
             1,
             "#276419"
            ]
           ],
           "sequential": [
            [
             0,
             "#0d0887"
            ],
            [
             0.1111111111111111,
             "#46039f"
            ],
            [
             0.2222222222222222,
             "#7201a8"
            ],
            [
             0.3333333333333333,
             "#9c179e"
            ],
            [
             0.4444444444444444,
             "#bd3786"
            ],
            [
             0.5555555555555556,
             "#d8576b"
            ],
            [
             0.6666666666666666,
             "#ed7953"
            ],
            [
             0.7777777777777778,
             "#fb9f3a"
            ],
            [
             0.8888888888888888,
             "#fdca26"
            ],
            [
             1,
             "#f0f921"
            ]
           ],
           "sequentialminus": [
            [
             0,
             "#0d0887"
            ],
            [
             0.1111111111111111,
             "#46039f"
            ],
            [
             0.2222222222222222,
             "#7201a8"
            ],
            [
             0.3333333333333333,
             "#9c179e"
            ],
            [
             0.4444444444444444,
             "#bd3786"
            ],
            [
             0.5555555555555556,
             "#d8576b"
            ],
            [
             0.6666666666666666,
             "#ed7953"
            ],
            [
             0.7777777777777778,
             "#fb9f3a"
            ],
            [
             0.8888888888888888,
             "#fdca26"
            ],
            [
             1,
             "#f0f921"
            ]
           ]
          },
          "colorway": [
           "#636efa",
           "#EF553B",
           "#00cc96",
           "#ab63fa",
           "#FFA15A",
           "#19d3f3",
           "#FF6692",
           "#B6E880",
           "#FF97FF",
           "#FECB52"
          ],
          "font": {
           "color": "#2a3f5f"
          },
          "geo": {
           "bgcolor": "white",
           "lakecolor": "white",
           "landcolor": "#E5ECF6",
           "showlakes": true,
           "showland": true,
           "subunitcolor": "white"
          },
          "hoverlabel": {
           "align": "left"
          },
          "hovermode": "closest",
          "mapbox": {
           "style": "light"
          },
          "paper_bgcolor": "white",
          "plot_bgcolor": "#E5ECF6",
          "polar": {
           "angularaxis": {
            "gridcolor": "white",
            "linecolor": "white",
            "ticks": ""
           },
           "bgcolor": "#E5ECF6",
           "radialaxis": {
            "gridcolor": "white",
            "linecolor": "white",
            "ticks": ""
           }
          },
          "scene": {
           "xaxis": {
            "backgroundcolor": "#E5ECF6",
            "gridcolor": "white",
            "gridwidth": 2,
            "linecolor": "white",
            "showbackground": true,
            "ticks": "",
            "zerolinecolor": "white"
           },
           "yaxis": {
            "backgroundcolor": "#E5ECF6",
            "gridcolor": "white",
            "gridwidth": 2,
            "linecolor": "white",
            "showbackground": true,
            "ticks": "",
            "zerolinecolor": "white"
           },
           "zaxis": {
            "backgroundcolor": "#E5ECF6",
            "gridcolor": "white",
            "gridwidth": 2,
            "linecolor": "white",
            "showbackground": true,
            "ticks": "",
            "zerolinecolor": "white"
           }
          },
          "shapedefaults": {
           "line": {
            "color": "#2a3f5f"
           }
          },
          "ternary": {
           "aaxis": {
            "gridcolor": "white",
            "linecolor": "white",
            "ticks": ""
           },
           "baxis": {
            "gridcolor": "white",
            "linecolor": "white",
            "ticks": ""
           },
           "bgcolor": "#E5ECF6",
           "caxis": {
            "gridcolor": "white",
            "linecolor": "white",
            "ticks": ""
           }
          },
          "title": {
           "x": 0.05
          },
          "xaxis": {
           "automargin": true,
           "gridcolor": "white",
           "linecolor": "white",
           "ticks": "",
           "title": {
            "standoff": 15
           },
           "zerolinecolor": "white",
           "zerolinewidth": 2
          },
          "yaxis": {
           "automargin": true,
           "gridcolor": "white",
           "linecolor": "white",
           "ticks": "",
           "title": {
            "standoff": 15
           },
           "zerolinecolor": "white",
           "zerolinewidth": 2
          }
         }
        },
        "updatemenus": [
         {
          "buttons": [
           {
            "args": [
             null,
             {
              "frame": {
               "duration": 500,
               "redraw": true
              },
              "fromcurrent": true,
              "mode": "immediate",
              "transition": {
               "duration": 500,
               "easing": "linear"
              }
             }
            ],
            "label": "&#9654;",
            "method": "animate"
           },
           {
            "args": [
             [
              null
             ],
             {
              "frame": {
               "duration": 0,
               "redraw": true
              },
              "fromcurrent": true,
              "mode": "immediate",
              "transition": {
               "duration": 0,
               "easing": "linear"
              }
             }
            ],
            "label": "&#9724;",
            "method": "animate"
           }
          ],
          "direction": "left",
          "pad": {
           "r": 10,
           "t": 70
          },
          "showactive": false,
          "type": "buttons",
          "x": 0.1,
          "xanchor": "right",
          "y": 0,
          "yanchor": "top"
         }
        ],
        "xaxis": {
         "anchor": "y",
         "domain": [
          0,
          1
         ],
         "title": {
          "text": "pca__n_components"
         }
        },
        "yaxis": {
         "anchor": "x",
         "domain": [
          0,
          1
         ],
         "range": [
          0.5,
          1
         ],
         "title": {
          "text": "Accuracy"
         }
        }
       }
      },
      "text/html": [
       "<div>                            <div id=\"068bd807-3032-4cee-a0da-190d7f10c5c0\" class=\"plotly-graph-div\" style=\"height:525px; width:100%;\"></div>            <script type=\"text/javascript\">                require([\"plotly\"], function(Plotly) {                    window.PLOTLYENV=window.PLOTLYENV || {};                                    if (document.getElementById(\"068bd807-3032-4cee-a0da-190d7f10c5c0\")) {                    Plotly.newPlot(                        \"068bd807-3032-4cee-a0da-190d7f10c5c0\",                        [{\"alignmentgroup\": \"True\", \"hovertemplate\": \"svc__C=0.1<br>pca__n_components=%{marker.color}<br>Accuracy=%{y}<extra></extra>\", \"ids\": [20, 40, 60, 80, 100, 120, 140, 20, 40, 60, 80, 100, 120, 140, 20, 40, 60, 80, 100, 120, 140, 20, 40, 60, 80, 100, 120, 140], \"legendgroup\": \"\", \"marker\": {\"color\": [20, 40, 60, 80, 100, 120, 140, 20, 40, 60, 80, 100, 120, 140, 20, 40, 60, 80, 100, 120, 140, 20, 40, 60, 80, 100, 120, 140], \"coloraxis\": \"coloraxis\"}, \"name\": \"\", \"offsetgroup\": \"\", \"orientation\": \"v\", \"showlegend\": false, \"textposition\": \"auto\", \"type\": \"bar\", \"x\": [20, 40, 60, 80, 100, 120, 140, 20, 40, 60, 80, 100, 120, 140, 20, 40, 60, 80, 100, 120, 140, 20, 40, 60, 80, 100, 120, 140], \"xaxis\": \"x\", \"y\": [0.7350000000000001, 0.7699999999999999, 0.795, 0.805, 0.805, 0.805, 0.805, 0.7150000000000001, 0.76, 0.785, 0.7899999999999999, 0.7949999999999999, 0.7949999999999999, 0.7949999999999999, 0.7200000000000001, 0.7449999999999999, 0.78, 0.78, 0.78, 0.78, 0.7849999999999999, 0.7050000000000001, 0.755, 0.7699999999999999, 0.775, 0.775, 0.775, 0.775], \"yaxis\": \"y\"}],                        {\"barmode\": \"relative\", \"coloraxis\": {\"colorbar\": {\"title\": {\"text\": \"pca__n_components\"}}, \"colorscale\": [[0.0, \"#0d0887\"], [0.1111111111111111, \"#46039f\"], [0.2222222222222222, \"#7201a8\"], [0.3333333333333333, \"#9c179e\"], [0.4444444444444444, \"#bd3786\"], [0.5555555555555556, \"#d8576b\"], [0.6666666666666666, \"#ed7953\"], [0.7777777777777778, \"#fb9f3a\"], [0.8888888888888888, \"#fdca26\"], [1.0, \"#f0f921\"]]}, \"legend\": {\"tracegroupgap\": 0}, \"margin\": {\"t\": 60}, \"sliders\": [{\"active\": 0, \"currentvalue\": {\"prefix\": \"svc__C=\"}, \"len\": 0.9, \"pad\": {\"b\": 10, \"t\": 60}, \"steps\": [{\"args\": [[\"0.1\"], {\"frame\": {\"duration\": 0, \"redraw\": true}, \"fromcurrent\": true, \"mode\": \"immediate\", \"transition\": {\"duration\": 0, \"easing\": \"linear\"}}], \"label\": \"0.1\", \"method\": \"animate\"}, {\"args\": [[\"0.2\"], {\"frame\": {\"duration\": 0, \"redraw\": true}, \"fromcurrent\": true, \"mode\": \"immediate\", \"transition\": {\"duration\": 0, \"easing\": \"linear\"}}], \"label\": \"0.2\", \"method\": \"animate\"}, {\"args\": [[\"0.3\"], {\"frame\": {\"duration\": 0, \"redraw\": true}, \"fromcurrent\": true, \"mode\": \"immediate\", \"transition\": {\"duration\": 0, \"easing\": \"linear\"}}], \"label\": \"0.3\", \"method\": \"animate\"}, {\"args\": [[\"0.4\"], {\"frame\": {\"duration\": 0, \"redraw\": true}, \"fromcurrent\": true, \"mode\": \"immediate\", \"transition\": {\"duration\": 0, \"easing\": \"linear\"}}], \"label\": \"0.4\", \"method\": \"animate\"}, {\"args\": [[\"0.5\"], {\"frame\": {\"duration\": 0, \"redraw\": true}, \"fromcurrent\": true, \"mode\": \"immediate\", \"transition\": {\"duration\": 0, \"easing\": \"linear\"}}], \"label\": \"0.5\", \"method\": \"animate\"}, {\"args\": [[\"0.6\"], {\"frame\": {\"duration\": 0, \"redraw\": true}, \"fromcurrent\": true, \"mode\": \"immediate\", \"transition\": {\"duration\": 0, \"easing\": \"linear\"}}], \"label\": \"0.6\", \"method\": \"animate\"}, {\"args\": [[\"0.7\"], {\"frame\": {\"duration\": 0, \"redraw\": true}, \"fromcurrent\": true, \"mode\": \"immediate\", \"transition\": {\"duration\": 0, \"easing\": \"linear\"}}], \"label\": \"0.7\", \"method\": \"animate\"}, {\"args\": [[\"0.8\"], {\"frame\": {\"duration\": 0, \"redraw\": true}, \"fromcurrent\": true, \"mode\": \"immediate\", \"transition\": {\"duration\": 0, \"easing\": \"linear\"}}], \"label\": \"0.8\", \"method\": \"animate\"}, {\"args\": [[\"0.9\"], {\"frame\": {\"duration\": 0, \"redraw\": true}, \"fromcurrent\": true, \"mode\": \"immediate\", \"transition\": {\"duration\": 0, \"easing\": \"linear\"}}], \"label\": \"0.9\", \"method\": \"animate\"}, {\"args\": [[\"1.0\"], {\"frame\": {\"duration\": 0, \"redraw\": true}, \"fromcurrent\": true, \"mode\": \"immediate\", \"transition\": {\"duration\": 0, \"easing\": \"linear\"}}], \"label\": \"1.0\", \"method\": \"animate\"}, {\"args\": [[\"2.0\"], {\"frame\": {\"duration\": 0, \"redraw\": true}, \"fromcurrent\": true, \"mode\": \"immediate\", \"transition\": {\"duration\": 0, \"easing\": \"linear\"}}], \"label\": \"2.0\", \"method\": \"animate\"}, {\"args\": [[\"3.0\"], {\"frame\": {\"duration\": 0, \"redraw\": true}, \"fromcurrent\": true, \"mode\": \"immediate\", \"transition\": {\"duration\": 0, \"easing\": \"linear\"}}], \"label\": \"3.0\", \"method\": \"animate\"}, {\"args\": [[\"4.0\"], {\"frame\": {\"duration\": 0, \"redraw\": true}, \"fromcurrent\": true, \"mode\": \"immediate\", \"transition\": {\"duration\": 0, \"easing\": \"linear\"}}], \"label\": \"4.0\", \"method\": \"animate\"}, {\"args\": [[\"5.0\"], {\"frame\": {\"duration\": 0, \"redraw\": true}, \"fromcurrent\": true, \"mode\": \"immediate\", \"transition\": {\"duration\": 0, \"easing\": \"linear\"}}], \"label\": \"5.0\", \"method\": \"animate\"}, {\"args\": [[\"6.0\"], {\"frame\": {\"duration\": 0, \"redraw\": true}, \"fromcurrent\": true, \"mode\": \"immediate\", \"transition\": {\"duration\": 0, \"easing\": \"linear\"}}], \"label\": \"6.0\", \"method\": \"animate\"}, {\"args\": [[\"7.0\"], {\"frame\": {\"duration\": 0, \"redraw\": true}, \"fromcurrent\": true, \"mode\": \"immediate\", \"transition\": {\"duration\": 0, \"easing\": \"linear\"}}], \"label\": \"7.0\", \"method\": \"animate\"}, {\"args\": [[\"8.0\"], {\"frame\": {\"duration\": 0, \"redraw\": true}, \"fromcurrent\": true, \"mode\": \"immediate\", \"transition\": {\"duration\": 0, \"easing\": \"linear\"}}], \"label\": \"8.0\", \"method\": \"animate\"}, {\"args\": [[\"9.0\"], {\"frame\": {\"duration\": 0, \"redraw\": true}, \"fromcurrent\": true, \"mode\": \"immediate\", \"transition\": {\"duration\": 0, \"easing\": \"linear\"}}], \"label\": \"9.0\", \"method\": \"animate\"}, {\"args\": [[\"10.0\"], {\"frame\": {\"duration\": 0, \"redraw\": true}, \"fromcurrent\": true, \"mode\": \"immediate\", \"transition\": {\"duration\": 0, \"easing\": \"linear\"}}], \"label\": \"10.0\", \"method\": \"animate\"}], \"x\": 0.1, \"xanchor\": \"left\", \"y\": 0, \"yanchor\": \"top\"}], \"template\": {\"data\": {\"bar\": [{\"error_x\": {\"color\": \"#2a3f5f\"}, \"error_y\": {\"color\": \"#2a3f5f\"}, \"marker\": {\"line\": {\"color\": \"#E5ECF6\", \"width\": 0.5}}, \"type\": \"bar\"}], \"barpolar\": [{\"marker\": {\"line\": {\"color\": \"#E5ECF6\", \"width\": 0.5}}, \"type\": \"barpolar\"}], \"carpet\": [{\"aaxis\": {\"endlinecolor\": \"#2a3f5f\", \"gridcolor\": \"white\", \"linecolor\": \"white\", \"minorgridcolor\": \"white\", \"startlinecolor\": \"#2a3f5f\"}, \"baxis\": {\"endlinecolor\": \"#2a3f5f\", \"gridcolor\": \"white\", \"linecolor\": \"white\", \"minorgridcolor\": \"white\", \"startlinecolor\": \"#2a3f5f\"}, \"type\": \"carpet\"}], \"choropleth\": [{\"colorbar\": {\"outlinewidth\": 0, \"ticks\": \"\"}, \"type\": \"choropleth\"}], \"contour\": [{\"colorbar\": {\"outlinewidth\": 0, \"ticks\": \"\"}, \"colorscale\": [[0.0, \"#0d0887\"], [0.1111111111111111, \"#46039f\"], [0.2222222222222222, \"#7201a8\"], [0.3333333333333333, \"#9c179e\"], [0.4444444444444444, \"#bd3786\"], [0.5555555555555556, \"#d8576b\"], [0.6666666666666666, \"#ed7953\"], [0.7777777777777778, \"#fb9f3a\"], [0.8888888888888888, \"#fdca26\"], [1.0, \"#f0f921\"]], \"type\": \"contour\"}], \"contourcarpet\": [{\"colorbar\": {\"outlinewidth\": 0, \"ticks\": \"\"}, \"type\": \"contourcarpet\"}], \"heatmap\": [{\"colorbar\": {\"outlinewidth\": 0, \"ticks\": \"\"}, \"colorscale\": [[0.0, \"#0d0887\"], [0.1111111111111111, \"#46039f\"], [0.2222222222222222, \"#7201a8\"], [0.3333333333333333, \"#9c179e\"], [0.4444444444444444, \"#bd3786\"], [0.5555555555555556, \"#d8576b\"], [0.6666666666666666, \"#ed7953\"], [0.7777777777777778, \"#fb9f3a\"], [0.8888888888888888, \"#fdca26\"], [1.0, \"#f0f921\"]], \"type\": \"heatmap\"}], \"heatmapgl\": [{\"colorbar\": {\"outlinewidth\": 0, \"ticks\": \"\"}, \"colorscale\": [[0.0, \"#0d0887\"], [0.1111111111111111, \"#46039f\"], [0.2222222222222222, \"#7201a8\"], [0.3333333333333333, \"#9c179e\"], [0.4444444444444444, \"#bd3786\"], [0.5555555555555556, \"#d8576b\"], [0.6666666666666666, \"#ed7953\"], [0.7777777777777778, \"#fb9f3a\"], [0.8888888888888888, \"#fdca26\"], [1.0, \"#f0f921\"]], \"type\": \"heatmapgl\"}], \"histogram\": [{\"marker\": {\"colorbar\": {\"outlinewidth\": 0, \"ticks\": \"\"}}, \"type\": \"histogram\"}], \"histogram2d\": [{\"colorbar\": {\"outlinewidth\": 0, \"ticks\": \"\"}, \"colorscale\": [[0.0, \"#0d0887\"], [0.1111111111111111, \"#46039f\"], [0.2222222222222222, \"#7201a8\"], [0.3333333333333333, \"#9c179e\"], [0.4444444444444444, \"#bd3786\"], [0.5555555555555556, \"#d8576b\"], [0.6666666666666666, \"#ed7953\"], [0.7777777777777778, \"#fb9f3a\"], [0.8888888888888888, \"#fdca26\"], [1.0, \"#f0f921\"]], \"type\": \"histogram2d\"}], \"histogram2dcontour\": [{\"colorbar\": {\"outlinewidth\": 0, \"ticks\": \"\"}, \"colorscale\": [[0.0, \"#0d0887\"], [0.1111111111111111, \"#46039f\"], [0.2222222222222222, \"#7201a8\"], [0.3333333333333333, \"#9c179e\"], [0.4444444444444444, \"#bd3786\"], [0.5555555555555556, \"#d8576b\"], [0.6666666666666666, \"#ed7953\"], [0.7777777777777778, \"#fb9f3a\"], [0.8888888888888888, \"#fdca26\"], [1.0, \"#f0f921\"]], \"type\": \"histogram2dcontour\"}], \"mesh3d\": [{\"colorbar\": {\"outlinewidth\": 0, \"ticks\": \"\"}, \"type\": \"mesh3d\"}], \"parcoords\": [{\"line\": {\"colorbar\": {\"outlinewidth\": 0, \"ticks\": \"\"}}, \"type\": \"parcoords\"}], \"pie\": [{\"automargin\": true, \"type\": \"pie\"}], \"scatter\": [{\"marker\": {\"colorbar\": {\"outlinewidth\": 0, \"ticks\": \"\"}}, \"type\": \"scatter\"}], \"scatter3d\": [{\"line\": {\"colorbar\": {\"outlinewidth\": 0, \"ticks\": \"\"}}, \"marker\": {\"colorbar\": {\"outlinewidth\": 0, \"ticks\": \"\"}}, \"type\": \"scatter3d\"}], \"scattercarpet\": [{\"marker\": {\"colorbar\": {\"outlinewidth\": 0, \"ticks\": \"\"}}, \"type\": \"scattercarpet\"}], \"scattergeo\": [{\"marker\": {\"colorbar\": {\"outlinewidth\": 0, \"ticks\": \"\"}}, \"type\": \"scattergeo\"}], \"scattergl\": [{\"marker\": {\"colorbar\": {\"outlinewidth\": 0, \"ticks\": \"\"}}, \"type\": \"scattergl\"}], \"scattermapbox\": [{\"marker\": {\"colorbar\": {\"outlinewidth\": 0, \"ticks\": \"\"}}, \"type\": \"scattermapbox\"}], \"scatterpolar\": [{\"marker\": {\"colorbar\": {\"outlinewidth\": 0, \"ticks\": \"\"}}, \"type\": \"scatterpolar\"}], \"scatterpolargl\": [{\"marker\": {\"colorbar\": {\"outlinewidth\": 0, \"ticks\": \"\"}}, \"type\": \"scatterpolargl\"}], \"scatterternary\": [{\"marker\": {\"colorbar\": {\"outlinewidth\": 0, \"ticks\": \"\"}}, \"type\": \"scatterternary\"}], \"surface\": [{\"colorbar\": {\"outlinewidth\": 0, \"ticks\": \"\"}, \"colorscale\": [[0.0, \"#0d0887\"], [0.1111111111111111, \"#46039f\"], [0.2222222222222222, \"#7201a8\"], [0.3333333333333333, \"#9c179e\"], [0.4444444444444444, \"#bd3786\"], [0.5555555555555556, \"#d8576b\"], [0.6666666666666666, \"#ed7953\"], [0.7777777777777778, \"#fb9f3a\"], [0.8888888888888888, \"#fdca26\"], [1.0, \"#f0f921\"]], \"type\": \"surface\"}], \"table\": [{\"cells\": {\"fill\": {\"color\": \"#EBF0F8\"}, \"line\": {\"color\": \"white\"}}, \"header\": {\"fill\": {\"color\": \"#C8D4E3\"}, \"line\": {\"color\": \"white\"}}, \"type\": \"table\"}]}, \"layout\": {\"annotationdefaults\": {\"arrowcolor\": \"#2a3f5f\", \"arrowhead\": 0, \"arrowwidth\": 1}, \"coloraxis\": {\"colorbar\": {\"outlinewidth\": 0, \"ticks\": \"\"}}, \"colorscale\": {\"diverging\": [[0, \"#8e0152\"], [0.1, \"#c51b7d\"], [0.2, \"#de77ae\"], [0.3, \"#f1b6da\"], [0.4, \"#fde0ef\"], [0.5, \"#f7f7f7\"], [0.6, \"#e6f5d0\"], [0.7, \"#b8e186\"], [0.8, \"#7fbc41\"], [0.9, \"#4d9221\"], [1, \"#276419\"]], \"sequential\": [[0.0, \"#0d0887\"], [0.1111111111111111, \"#46039f\"], [0.2222222222222222, \"#7201a8\"], [0.3333333333333333, \"#9c179e\"], [0.4444444444444444, \"#bd3786\"], [0.5555555555555556, \"#d8576b\"], [0.6666666666666666, \"#ed7953\"], [0.7777777777777778, \"#fb9f3a\"], [0.8888888888888888, \"#fdca26\"], [1.0, \"#f0f921\"]], \"sequentialminus\": [[0.0, \"#0d0887\"], [0.1111111111111111, \"#46039f\"], [0.2222222222222222, \"#7201a8\"], [0.3333333333333333, \"#9c179e\"], [0.4444444444444444, \"#bd3786\"], [0.5555555555555556, \"#d8576b\"], [0.6666666666666666, \"#ed7953\"], [0.7777777777777778, \"#fb9f3a\"], [0.8888888888888888, \"#fdca26\"], [1.0, \"#f0f921\"]]}, \"colorway\": [\"#636efa\", \"#EF553B\", \"#00cc96\", \"#ab63fa\", \"#FFA15A\", \"#19d3f3\", \"#FF6692\", \"#B6E880\", \"#FF97FF\", \"#FECB52\"], \"font\": {\"color\": \"#2a3f5f\"}, \"geo\": {\"bgcolor\": \"white\", \"lakecolor\": \"white\", \"landcolor\": \"#E5ECF6\", \"showlakes\": true, \"showland\": true, \"subunitcolor\": \"white\"}, \"hoverlabel\": {\"align\": \"left\"}, \"hovermode\": \"closest\", \"mapbox\": {\"style\": \"light\"}, \"paper_bgcolor\": \"white\", \"plot_bgcolor\": \"#E5ECF6\", \"polar\": {\"angularaxis\": {\"gridcolor\": \"white\", \"linecolor\": \"white\", \"ticks\": \"\"}, \"bgcolor\": \"#E5ECF6\", \"radialaxis\": {\"gridcolor\": \"white\", \"linecolor\": \"white\", \"ticks\": \"\"}}, \"scene\": {\"xaxis\": {\"backgroundcolor\": \"#E5ECF6\", \"gridcolor\": \"white\", \"gridwidth\": 2, \"linecolor\": \"white\", \"showbackground\": true, \"ticks\": \"\", \"zerolinecolor\": \"white\"}, \"yaxis\": {\"backgroundcolor\": \"#E5ECF6\", \"gridcolor\": \"white\", \"gridwidth\": 2, \"linecolor\": \"white\", \"showbackground\": true, \"ticks\": \"\", \"zerolinecolor\": \"white\"}, \"zaxis\": {\"backgroundcolor\": \"#E5ECF6\", \"gridcolor\": \"white\", \"gridwidth\": 2, \"linecolor\": \"white\", \"showbackground\": true, \"ticks\": \"\", \"zerolinecolor\": \"white\"}}, \"shapedefaults\": {\"line\": {\"color\": \"#2a3f5f\"}}, \"ternary\": {\"aaxis\": {\"gridcolor\": \"white\", \"linecolor\": \"white\", \"ticks\": \"\"}, \"baxis\": {\"gridcolor\": \"white\", \"linecolor\": \"white\", \"ticks\": \"\"}, \"bgcolor\": \"#E5ECF6\", \"caxis\": {\"gridcolor\": \"white\", \"linecolor\": \"white\", \"ticks\": \"\"}}, \"title\": {\"x\": 0.05}, \"xaxis\": {\"automargin\": true, \"gridcolor\": \"white\", \"linecolor\": \"white\", \"ticks\": \"\", \"title\": {\"standoff\": 15}, \"zerolinecolor\": \"white\", \"zerolinewidth\": 2}, \"yaxis\": {\"automargin\": true, \"gridcolor\": \"white\", \"linecolor\": \"white\", \"ticks\": \"\", \"title\": {\"standoff\": 15}, \"zerolinecolor\": \"white\", \"zerolinewidth\": 2}}}, \"updatemenus\": [{\"buttons\": [{\"args\": [null, {\"frame\": {\"duration\": 500, \"redraw\": true}, \"fromcurrent\": true, \"mode\": \"immediate\", \"transition\": {\"duration\": 500, \"easing\": \"linear\"}}], \"label\": \"&#9654;\", \"method\": \"animate\"}, {\"args\": [[null], {\"frame\": {\"duration\": 0, \"redraw\": true}, \"fromcurrent\": true, \"mode\": \"immediate\", \"transition\": {\"duration\": 0, \"easing\": \"linear\"}}], \"label\": \"&#9724;\", \"method\": \"animate\"}], \"direction\": \"left\", \"pad\": {\"r\": 10, \"t\": 70}, \"showactive\": false, \"type\": \"buttons\", \"x\": 0.1, \"xanchor\": \"right\", \"y\": 0, \"yanchor\": \"top\"}], \"xaxis\": {\"anchor\": \"y\", \"domain\": [0.0, 1.0], \"title\": {\"text\": \"pca__n_components\"}}, \"yaxis\": {\"anchor\": \"x\", \"domain\": [0.0, 1.0], \"range\": [0.5, 1], \"title\": {\"text\": \"Accuracy\"}}},                        {\"responsive\": true}                    ).then(function(){\n",
       "                            Plotly.addFrames('068bd807-3032-4cee-a0da-190d7f10c5c0', [{\"data\": [{\"alignmentgroup\": \"True\", \"hovertemplate\": \"svc__C=0.1<br>pca__n_components=%{marker.color}<br>Accuracy=%{y}<extra></extra>\", \"ids\": [20, 40, 60, 80, 100, 120, 140, 20, 40, 60, 80, 100, 120, 140, 20, 40, 60, 80, 100, 120, 140, 20, 40, 60, 80, 100, 120, 140], \"legendgroup\": \"\", \"marker\": {\"color\": [20, 40, 60, 80, 100, 120, 140, 20, 40, 60, 80, 100, 120, 140, 20, 40, 60, 80, 100, 120, 140, 20, 40, 60, 80, 100, 120, 140], \"coloraxis\": \"coloraxis\"}, \"name\": \"\", \"offsetgroup\": \"\", \"orientation\": \"v\", \"showlegend\": false, \"textposition\": \"auto\", \"x\": [20, 40, 60, 80, 100, 120, 140, 20, 40, 60, 80, 100, 120, 140, 20, 40, 60, 80, 100, 120, 140, 20, 40, 60, 80, 100, 120, 140], \"xaxis\": \"x\", \"y\": [0.7350000000000001, 0.7699999999999999, 0.795, 0.805, 0.805, 0.805, 0.805, 0.7150000000000001, 0.76, 0.785, 0.7899999999999999, 0.7949999999999999, 0.7949999999999999, 0.7949999999999999, 0.7200000000000001, 0.7449999999999999, 0.78, 0.78, 0.78, 0.78, 0.7849999999999999, 0.7050000000000001, 0.755, 0.7699999999999999, 0.775, 0.775, 0.775, 0.775], \"yaxis\": \"y\", \"type\": \"bar\"}], \"name\": \"0.1\"}, {\"data\": [{\"alignmentgroup\": \"True\", \"hovertemplate\": \"svc__C=0.2<br>pca__n_components=%{marker.color}<br>Accuracy=%{y}<extra></extra>\", \"ids\": [20, 40, 60, 80, 100, 120, 140, 20, 40, 60, 80, 100, 120, 140, 20, 40, 60, 80, 100, 120, 140, 20, 40, 60, 80, 100, 120, 140], \"legendgroup\": \"\", \"marker\": {\"color\": [20, 40, 60, 80, 100, 120, 140, 20, 40, 60, 80, 100, 120, 140, 20, 40, 60, 80, 100, 120, 140, 20, 40, 60, 80, 100, 120, 140], \"coloraxis\": \"coloraxis\"}, \"name\": \"\", \"offsetgroup\": \"\", \"orientation\": \"v\", \"showlegend\": false, \"textposition\": \"auto\", \"x\": [20, 40, 60, 80, 100, 120, 140, 20, 40, 60, 80, 100, 120, 140, 20, 40, 60, 80, 100, 120, 140, 20, 40, 60, 80, 100, 120, 140], \"xaxis\": \"x\", \"y\": [0.7350000000000001, 0.7699999999999999, 0.795, 0.805, 0.805, 0.805, 0.805, 0.7150000000000001, 0.76, 0.785, 0.7899999999999999, 0.7949999999999999, 0.7949999999999999, 0.7949999999999999, 0.7200000000000001, 0.7449999999999999, 0.78, 0.78, 0.78, 0.78, 0.7849999999999999, 0.7050000000000001, 0.755, 0.7699999999999999, 0.775, 0.775, 0.775, 0.775], \"yaxis\": \"y\", \"type\": \"bar\"}], \"name\": \"0.2\"}, {\"data\": [{\"alignmentgroup\": \"True\", \"hovertemplate\": \"svc__C=0.3<br>pca__n_components=%{marker.color}<br>Accuracy=%{y}<extra></extra>\", \"ids\": [20, 40, 60, 80, 100, 120, 140, 20, 40, 60, 80, 100, 120, 140, 20, 40, 60, 80, 100, 120, 140, 20, 40, 60, 80, 100, 120, 140], \"legendgroup\": \"\", \"marker\": {\"color\": [20, 40, 60, 80, 100, 120, 140, 20, 40, 60, 80, 100, 120, 140, 20, 40, 60, 80, 100, 120, 140, 20, 40, 60, 80, 100, 120, 140], \"coloraxis\": \"coloraxis\"}, \"name\": \"\", \"offsetgroup\": \"\", \"orientation\": \"v\", \"showlegend\": false, \"textposition\": \"auto\", \"x\": [20, 40, 60, 80, 100, 120, 140, 20, 40, 60, 80, 100, 120, 140, 20, 40, 60, 80, 100, 120, 140, 20, 40, 60, 80, 100, 120, 140], \"xaxis\": \"x\", \"y\": [0.7350000000000001, 0.7699999999999999, 0.795, 0.805, 0.805, 0.805, 0.805, 0.7150000000000001, 0.76, 0.785, 0.7899999999999999, 0.7949999999999999, 0.7949999999999999, 0.7949999999999999, 0.7200000000000001, 0.7449999999999999, 0.78, 0.78, 0.78, 0.78, 0.7849999999999999, 0.7050000000000001, 0.755, 0.7699999999999999, 0.775, 0.775, 0.775, 0.775], \"yaxis\": \"y\", \"type\": \"bar\"}], \"name\": \"0.3\"}, {\"data\": [{\"alignmentgroup\": \"True\", \"hovertemplate\": \"svc__C=0.4<br>pca__n_components=%{marker.color}<br>Accuracy=%{y}<extra></extra>\", \"ids\": [20, 40, 60, 80, 100, 120, 140, 20, 40, 60, 80, 100, 120, 140, 20, 40, 60, 80, 100, 120, 140, 20, 40, 60, 80, 100, 120, 140], \"legendgroup\": \"\", \"marker\": {\"color\": [20, 40, 60, 80, 100, 120, 140, 20, 40, 60, 80, 100, 120, 140, 20, 40, 60, 80, 100, 120, 140, 20, 40, 60, 80, 100, 120, 140], \"coloraxis\": \"coloraxis\"}, \"name\": \"\", \"offsetgroup\": \"\", \"orientation\": \"v\", \"showlegend\": false, \"textposition\": \"auto\", \"x\": [20, 40, 60, 80, 100, 120, 140, 20, 40, 60, 80, 100, 120, 140, 20, 40, 60, 80, 100, 120, 140, 20, 40, 60, 80, 100, 120, 140], \"xaxis\": \"x\", \"y\": [0.7350000000000001, 0.7699999999999999, 0.795, 0.805, 0.805, 0.805, 0.805, 0.7150000000000001, 0.76, 0.785, 0.7899999999999999, 0.7949999999999999, 0.7949999999999999, 0.7949999999999999, 0.7200000000000001, 0.7449999999999999, 0.78, 0.78, 0.78, 0.78, 0.7849999999999999, 0.7050000000000001, 0.755, 0.7699999999999999, 0.775, 0.775, 0.775, 0.775], \"yaxis\": \"y\", \"type\": \"bar\"}], \"name\": \"0.4\"}, {\"data\": [{\"alignmentgroup\": \"True\", \"hovertemplate\": \"svc__C=0.5<br>pca__n_components=%{marker.color}<br>Accuracy=%{y}<extra></extra>\", \"ids\": [20, 40, 60, 80, 100, 120, 140, 20, 40, 60, 80, 100, 120, 140, 20, 40, 60, 80, 100, 120, 140, 20, 40, 60, 80, 100, 120, 140], \"legendgroup\": \"\", \"marker\": {\"color\": [20, 40, 60, 80, 100, 120, 140, 20, 40, 60, 80, 100, 120, 140, 20, 40, 60, 80, 100, 120, 140, 20, 40, 60, 80, 100, 120, 140], \"coloraxis\": \"coloraxis\"}, \"name\": \"\", \"offsetgroup\": \"\", \"orientation\": \"v\", \"showlegend\": false, \"textposition\": \"auto\", \"x\": [20, 40, 60, 80, 100, 120, 140, 20, 40, 60, 80, 100, 120, 140, 20, 40, 60, 80, 100, 120, 140, 20, 40, 60, 80, 100, 120, 140], \"xaxis\": \"x\", \"y\": [0.7350000000000001, 0.7699999999999999, 0.795, 0.805, 0.805, 0.805, 0.805, 0.7150000000000001, 0.76, 0.785, 0.7899999999999999, 0.7949999999999999, 0.7949999999999999, 0.7949999999999999, 0.7200000000000001, 0.7449999999999999, 0.78, 0.78, 0.78, 0.78, 0.7849999999999999, 0.7050000000000001, 0.755, 0.7699999999999999, 0.775, 0.775, 0.775, 0.775], \"yaxis\": \"y\", \"type\": \"bar\"}], \"name\": \"0.5\"}, {\"data\": [{\"alignmentgroup\": \"True\", \"hovertemplate\": \"svc__C=0.6<br>pca__n_components=%{marker.color}<br>Accuracy=%{y}<extra></extra>\", \"ids\": [20, 40, 60, 80, 100, 120, 140, 20, 40, 60, 80, 100, 120, 140, 20, 40, 60, 80, 100, 120, 140, 20, 40, 60, 80, 100, 120, 140], \"legendgroup\": \"\", \"marker\": {\"color\": [20, 40, 60, 80, 100, 120, 140, 20, 40, 60, 80, 100, 120, 140, 20, 40, 60, 80, 100, 120, 140, 20, 40, 60, 80, 100, 120, 140], \"coloraxis\": \"coloraxis\"}, \"name\": \"\", \"offsetgroup\": \"\", \"orientation\": \"v\", \"showlegend\": false, \"textposition\": \"auto\", \"x\": [20, 40, 60, 80, 100, 120, 140, 20, 40, 60, 80, 100, 120, 140, 20, 40, 60, 80, 100, 120, 140, 20, 40, 60, 80, 100, 120, 140], \"xaxis\": \"x\", \"y\": [0.74, 0.77, 0.8049999999999999, 0.8099999999999999, 0.805, 0.805, 0.805, 0.7150000000000001, 0.7699999999999999, 0.8, 0.7949999999999999, 0.7949999999999999, 0.7949999999999999, 0.7949999999999999, 0.7200000000000001, 0.755, 0.7849999999999999, 0.79, 0.785, 0.785, 0.79, 0.7050000000000001, 0.76, 0.775, 0.775, 0.78, 0.775, 0.775], \"yaxis\": \"y\", \"type\": \"bar\"}], \"name\": \"0.6\"}, {\"data\": [{\"alignmentgroup\": \"True\", \"hovertemplate\": \"svc__C=0.7<br>pca__n_components=%{marker.color}<br>Accuracy=%{y}<extra></extra>\", \"ids\": [20, 40, 60, 80, 100, 120, 140, 20, 40, 60, 80, 100, 120, 140, 20, 40, 60, 80, 100, 120, 140, 20, 40, 60, 80, 100, 120, 140], \"legendgroup\": \"\", \"marker\": {\"color\": [20, 40, 60, 80, 100, 120, 140, 20, 40, 60, 80, 100, 120, 140, 20, 40, 60, 80, 100, 120, 140, 20, 40, 60, 80, 100, 120, 140], \"coloraxis\": \"coloraxis\"}, \"name\": \"\", \"offsetgroup\": \"\", \"orientation\": \"v\", \"showlegend\": false, \"textposition\": \"auto\", \"x\": [20, 40, 60, 80, 100, 120, 140, 20, 40, 60, 80, 100, 120, 140, 20, 40, 60, 80, 100, 120, 140, 20, 40, 60, 80, 100, 120, 140], \"xaxis\": \"x\", \"y\": [0.745, 0.7899999999999999, 0.8099999999999999, 0.8099999999999999, 0.8099999999999999, 0.8099999999999999, 0.8099999999999999, 0.725, 0.78, 0.8, 0.79, 0.8, 0.8, 0.8, 0.7300000000000001, 0.775, 0.79, 0.79, 0.79, 0.79, 0.7950000000000002, 0.7150000000000001, 0.7699999999999999, 0.775, 0.78, 0.78, 0.78, 0.79], \"yaxis\": \"y\", \"type\": \"bar\"}], \"name\": \"0.7\"}, {\"data\": [{\"alignmentgroup\": \"True\", \"hovertemplate\": \"svc__C=0.8<br>pca__n_components=%{marker.color}<br>Accuracy=%{y}<extra></extra>\", \"ids\": [20, 40, 60, 80, 100, 120, 140, 20, 40, 60, 80, 100, 120, 140, 20, 40, 60, 80, 100, 120, 140, 20, 40, 60, 80, 100, 120, 140], \"legendgroup\": \"\", \"marker\": {\"color\": [20, 40, 60, 80, 100, 120, 140, 20, 40, 60, 80, 100, 120, 140, 20, 40, 60, 80, 100, 120, 140, 20, 40, 60, 80, 100, 120, 140], \"coloraxis\": \"coloraxis\"}, \"name\": \"\", \"offsetgroup\": \"\", \"orientation\": \"v\", \"showlegend\": false, \"textposition\": \"auto\", \"x\": [20, 40, 60, 80, 100, 120, 140, 20, 40, 60, 80, 100, 120, 140, 20, 40, 60, 80, 100, 120, 140, 20, 40, 60, 80, 100, 120, 140], \"xaxis\": \"x\", \"y\": [0.76, 0.805, 0.8150000000000001, 0.8200000000000001, 0.8200000000000001, 0.8200000000000001, 0.825, 0.7350000000000001, 0.785, 0.8, 0.8, 0.7950000000000002, 0.7950000000000002, 0.8, 0.735, 0.78, 0.79, 0.79, 0.7950000000000002, 0.7950000000000002, 0.7950000000000002, 0.725, 0.7699999999999999, 0.7849999999999999, 0.79, 0.79, 0.79, 0.79], \"yaxis\": \"y\", \"type\": \"bar\"}], \"name\": \"0.8\"}, {\"data\": [{\"alignmentgroup\": \"True\", \"hovertemplate\": \"svc__C=0.9<br>pca__n_components=%{marker.color}<br>Accuracy=%{y}<extra></extra>\", \"ids\": [20, 40, 60, 80, 100, 120, 140, 20, 40, 60, 80, 100, 120, 140, 20, 40, 60, 80, 100, 120, 140, 20, 40, 60, 80, 100, 120, 140], \"legendgroup\": \"\", \"marker\": {\"color\": [20, 40, 60, 80, 100, 120, 140, 20, 40, 60, 80, 100, 120, 140, 20, 40, 60, 80, 100, 120, 140, 20, 40, 60, 80, 100, 120, 140], \"coloraxis\": \"coloraxis\"}, \"name\": \"\", \"offsetgroup\": \"\", \"orientation\": \"v\", \"showlegend\": false, \"textposition\": \"auto\", \"x\": [20, 40, 60, 80, 100, 120, 140, 20, 40, 60, 80, 100, 120, 140, 20, 40, 60, 80, 100, 120, 140, 20, 40, 60, 80, 100, 120, 140], \"xaxis\": \"x\", \"y\": [0.7649999999999999, 0.825, 0.8400000000000001, 0.8400000000000001, 0.8450000000000001, 0.8450000000000001, 0.8400000000000001, 0.75, 0.7899999999999999, 0.8200000000000001, 0.8099999999999999, 0.805, 0.805, 0.8099999999999999, 0.735, 0.7849999999999999, 0.805, 0.8, 0.8, 0.8, 0.8, 0.735, 0.7749999999999999, 0.7949999999999999, 0.7949999999999999, 0.8, 0.8, 0.8], \"yaxis\": \"y\", \"type\": \"bar\"}], \"name\": \"0.9\"}, {\"data\": [{\"alignmentgroup\": \"True\", \"hovertemplate\": \"svc__C=1.0<br>pca__n_components=%{marker.color}<br>Accuracy=%{y}<extra></extra>\", \"ids\": [20, 40, 60, 80, 100, 120, 140, 20, 40, 60, 80, 100, 120, 140, 20, 40, 60, 80, 100, 120, 140, 20, 40, 60, 80, 100, 120, 140], \"legendgroup\": \"\", \"marker\": {\"color\": [20, 40, 60, 80, 100, 120, 140, 20, 40, 60, 80, 100, 120, 140, 20, 40, 60, 80, 100, 120, 140, 20, 40, 60, 80, 100, 120, 140], \"coloraxis\": \"coloraxis\"}, \"name\": \"\", \"offsetgroup\": \"\", \"orientation\": \"v\", \"showlegend\": false, \"textposition\": \"auto\", \"x\": [20, 40, 60, 80, 100, 120, 140, 20, 40, 60, 80, 100, 120, 140, 20, 40, 60, 80, 100, 120, 140, 20, 40, 60, 80, 100, 120, 140], \"xaxis\": \"x\", \"y\": [0.7749999999999999, 0.8200000000000001, 0.845, 0.85, 0.85, 0.8450000000000001, 0.845, 0.755, 0.805, 0.8299999999999998, 0.8400000000000001, 0.8400000000000001, 0.8400000000000001, 0.835, 0.74, 0.7899999999999999, 0.8100000000000002, 0.82, 0.8150000000000001, 0.8100000000000002, 0.8100000000000002, 0.74, 0.7899999999999999, 0.8, 0.805, 0.8, 0.805, 0.805], \"yaxis\": \"y\", \"type\": \"bar\"}], \"name\": \"1.0\"}, {\"data\": [{\"alignmentgroup\": \"True\", \"hovertemplate\": \"svc__C=2.0<br>pca__n_components=%{marker.color}<br>Accuracy=%{y}<extra></extra>\", \"ids\": [20, 40, 60, 80, 100, 120, 140, 20, 40, 60, 80, 100, 120, 140, 20, 40, 60, 80, 100, 120, 140, 20, 40, 60, 80, 100, 120, 140], \"legendgroup\": \"\", \"marker\": {\"color\": [20, 40, 60, 80, 100, 120, 140, 20, 40, 60, 80, 100, 120, 140, 20, 40, 60, 80, 100, 120, 140, 20, 40, 60, 80, 100, 120, 140], \"coloraxis\": \"coloraxis\"}, \"name\": \"\", \"offsetgroup\": \"\", \"orientation\": \"v\", \"showlegend\": false, \"textposition\": \"auto\", \"x\": [20, 40, 60, 80, 100, 120, 140, 20, 40, 60, 80, 100, 120, 140, 20, 40, 60, 80, 100, 120, 140, 20, 40, 60, 80, 100, 120, 140], \"xaxis\": \"x\", \"y\": [0.85, 0.8550000000000001, 0.8800000000000001, 0.8800000000000001, 0.8800000000000001, 0.8800000000000001, 0.8800000000000001, 0.835, 0.8550000000000001, 0.8699999999999999, 0.875, 0.875, 0.875, 0.875, 0.8299999999999998, 0.86, 0.865, 0.865, 0.8699999999999999, 0.8699999999999999, 0.865, 0.8149999999999998, 0.85, 0.8600000000000001, 0.865, 0.865, 0.865, 0.865], \"yaxis\": \"y\", \"type\": \"bar\"}], \"name\": \"2.0\"}, {\"data\": [{\"alignmentgroup\": \"True\", \"hovertemplate\": \"svc__C=3.0<br>pca__n_components=%{marker.color}<br>Accuracy=%{y}<extra></extra>\", \"ids\": [20, 40, 60, 80, 100, 120, 140, 20, 40, 60, 80, 100, 120, 140, 20, 40, 60, 80, 100, 120, 140, 20, 40, 60, 80, 100, 120, 140], \"legendgroup\": \"\", \"marker\": {\"color\": [20, 40, 60, 80, 100, 120, 140, 20, 40, 60, 80, 100, 120, 140, 20, 40, 60, 80, 100, 120, 140, 20, 40, 60, 80, 100, 120, 140], \"coloraxis\": \"coloraxis\"}, \"name\": \"\", \"offsetgroup\": \"\", \"orientation\": \"v\", \"showlegend\": false, \"textposition\": \"auto\", \"x\": [20, 40, 60, 80, 100, 120, 140, 20, 40, 60, 80, 100, 120, 140, 20, 40, 60, 80, 100, 120, 140, 20, 40, 60, 80, 100, 120, 140], \"xaxis\": \"x\", \"y\": [0.8550000000000001, 0.8699999999999999, 0.8800000000000001, 0.8800000000000001, 0.8800000000000001, 0.8800000000000001, 0.8800000000000001, 0.85, 0.86, 0.875, 0.875, 0.875, 0.875, 0.875, 0.835, 0.86, 0.875, 0.8699999999999999, 0.8699999999999999, 0.8699999999999999, 0.865, 0.8299999999999998, 0.8699999999999999, 0.875, 0.875, 0.8699999999999999, 0.8699999999999999, 0.8699999999999999], \"yaxis\": \"y\", \"type\": \"bar\"}], \"name\": \"3.0\"}, {\"data\": [{\"alignmentgroup\": \"True\", \"hovertemplate\": \"svc__C=4.0<br>pca__n_components=%{marker.color}<br>Accuracy=%{y}<extra></extra>\", \"ids\": [20, 40, 60, 80, 100, 120, 140, 20, 40, 60, 80, 100, 120, 140, 20, 40, 60, 80, 100, 120, 140, 20, 40, 60, 80, 100, 120, 140], \"legendgroup\": \"\", \"marker\": {\"color\": [20, 40, 60, 80, 100, 120, 140, 20, 40, 60, 80, 100, 120, 140, 20, 40, 60, 80, 100, 120, 140, 20, 40, 60, 80, 100, 120, 140], \"coloraxis\": \"coloraxis\"}, \"name\": \"\", \"offsetgroup\": \"\", \"orientation\": \"v\", \"showlegend\": false, \"textposition\": \"auto\", \"x\": [20, 40, 60, 80, 100, 120, 140, 20, 40, 60, 80, 100, 120, 140, 20, 40, 60, 80, 100, 120, 140, 20, 40, 60, 80, 100, 120, 140], \"xaxis\": \"x\", \"y\": [0.8600000000000001, 0.8699999999999999, 0.8800000000000001, 0.8800000000000001, 0.8800000000000001, 0.8800000000000001, 0.8800000000000001, 0.8600000000000001, 0.86, 0.875, 0.875, 0.875, 0.875, 0.875, 0.85, 0.86, 0.875, 0.8699999999999999, 0.8699999999999999, 0.8699999999999999, 0.865, 0.8400000000000001, 0.8699999999999999, 0.875, 0.875, 0.8699999999999999, 0.8699999999999999, 0.8699999999999999], \"yaxis\": \"y\", \"type\": \"bar\"}], \"name\": \"4.0\"}, {\"data\": [{\"alignmentgroup\": \"True\", \"hovertemplate\": \"svc__C=5.0<br>pca__n_components=%{marker.color}<br>Accuracy=%{y}<extra></extra>\", \"ids\": [20, 40, 60, 80, 100, 120, 140, 20, 40, 60, 80, 100, 120, 140, 20, 40, 60, 80, 100, 120, 140, 20, 40, 60, 80, 100, 120, 140], \"legendgroup\": \"\", \"marker\": {\"color\": [20, 40, 60, 80, 100, 120, 140, 20, 40, 60, 80, 100, 120, 140, 20, 40, 60, 80, 100, 120, 140, 20, 40, 60, 80, 100, 120, 140], \"coloraxis\": \"coloraxis\"}, \"name\": \"\", \"offsetgroup\": \"\", \"orientation\": \"v\", \"showlegend\": false, \"textposition\": \"auto\", \"x\": [20, 40, 60, 80, 100, 120, 140, 20, 40, 60, 80, 100, 120, 140, 20, 40, 60, 80, 100, 120, 140, 20, 40, 60, 80, 100, 120, 140], \"xaxis\": \"x\", \"y\": [0.8600000000000001, 0.8699999999999999, 0.8800000000000001, 0.8800000000000001, 0.8800000000000001, 0.8800000000000001, 0.8800000000000001, 0.8600000000000001, 0.86, 0.875, 0.875, 0.875, 0.875, 0.875, 0.85, 0.86, 0.875, 0.8699999999999999, 0.8699999999999999, 0.8699999999999999, 0.865, 0.845, 0.8699999999999999, 0.875, 0.875, 0.8699999999999999, 0.8699999999999999, 0.8699999999999999], \"yaxis\": \"y\", \"type\": \"bar\"}], \"name\": \"5.0\"}, {\"data\": [{\"alignmentgroup\": \"True\", \"hovertemplate\": \"svc__C=6.0<br>pca__n_components=%{marker.color}<br>Accuracy=%{y}<extra></extra>\", \"ids\": [20, 40, 60, 80, 100, 120, 140, 20, 40, 60, 80, 100, 120, 140, 20, 40, 60, 80, 100, 120, 140, 20, 40, 60, 80, 100, 120, 140], \"legendgroup\": \"\", \"marker\": {\"color\": [20, 40, 60, 80, 100, 120, 140, 20, 40, 60, 80, 100, 120, 140, 20, 40, 60, 80, 100, 120, 140, 20, 40, 60, 80, 100, 120, 140], \"coloraxis\": \"coloraxis\"}, \"name\": \"\", \"offsetgroup\": \"\", \"orientation\": \"v\", \"showlegend\": false, \"textposition\": \"auto\", \"x\": [20, 40, 60, 80, 100, 120, 140, 20, 40, 60, 80, 100, 120, 140, 20, 40, 60, 80, 100, 120, 140, 20, 40, 60, 80, 100, 120, 140], \"xaxis\": \"x\", \"y\": [0.8600000000000001, 0.8699999999999999, 0.8800000000000001, 0.8800000000000001, 0.8800000000000001, 0.8800000000000001, 0.8800000000000001, 0.8600000000000001, 0.86, 0.875, 0.875, 0.875, 0.875, 0.875, 0.85, 0.86, 0.875, 0.8699999999999999, 0.8699999999999999, 0.8699999999999999, 0.865, 0.845, 0.8699999999999999, 0.875, 0.875, 0.8699999999999999, 0.8699999999999999, 0.8699999999999999], \"yaxis\": \"y\", \"type\": \"bar\"}], \"name\": \"6.0\"}, {\"data\": [{\"alignmentgroup\": \"True\", \"hovertemplate\": \"svc__C=7.0<br>pca__n_components=%{marker.color}<br>Accuracy=%{y}<extra></extra>\", \"ids\": [20, 40, 60, 80, 100, 120, 140, 20, 40, 60, 80, 100, 120, 140, 20, 40, 60, 80, 100, 120, 140, 20, 40, 60, 80, 100, 120, 140], \"legendgroup\": \"\", \"marker\": {\"color\": [20, 40, 60, 80, 100, 120, 140, 20, 40, 60, 80, 100, 120, 140, 20, 40, 60, 80, 100, 120, 140, 20, 40, 60, 80, 100, 120, 140], \"coloraxis\": \"coloraxis\"}, \"name\": \"\", \"offsetgroup\": \"\", \"orientation\": \"v\", \"showlegend\": false, \"textposition\": \"auto\", \"x\": [20, 40, 60, 80, 100, 120, 140, 20, 40, 60, 80, 100, 120, 140, 20, 40, 60, 80, 100, 120, 140, 20, 40, 60, 80, 100, 120, 140], \"xaxis\": \"x\", \"y\": [0.8600000000000001, 0.8699999999999999, 0.8800000000000001, 0.8800000000000001, 0.8800000000000001, 0.8800000000000001, 0.8800000000000001, 0.8600000000000001, 0.86, 0.875, 0.875, 0.875, 0.875, 0.875, 0.85, 0.86, 0.875, 0.8699999999999999, 0.8699999999999999, 0.8699999999999999, 0.865, 0.845, 0.8699999999999999, 0.875, 0.875, 0.8699999999999999, 0.8699999999999999, 0.8699999999999999], \"yaxis\": \"y\", \"type\": \"bar\"}], \"name\": \"7.0\"}, {\"data\": [{\"alignmentgroup\": \"True\", \"hovertemplate\": \"svc__C=8.0<br>pca__n_components=%{marker.color}<br>Accuracy=%{y}<extra></extra>\", \"ids\": [20, 40, 60, 80, 100, 120, 140, 20, 40, 60, 80, 100, 120, 140, 20, 40, 60, 80, 100, 120, 140, 20, 40, 60, 80, 100, 120, 140], \"legendgroup\": \"\", \"marker\": {\"color\": [20, 40, 60, 80, 100, 120, 140, 20, 40, 60, 80, 100, 120, 140, 20, 40, 60, 80, 100, 120, 140, 20, 40, 60, 80, 100, 120, 140], \"coloraxis\": \"coloraxis\"}, \"name\": \"\", \"offsetgroup\": \"\", \"orientation\": \"v\", \"showlegend\": false, \"textposition\": \"auto\", \"x\": [20, 40, 60, 80, 100, 120, 140, 20, 40, 60, 80, 100, 120, 140, 20, 40, 60, 80, 100, 120, 140, 20, 40, 60, 80, 100, 120, 140], \"xaxis\": \"x\", \"y\": [0.8600000000000001, 0.8699999999999999, 0.8800000000000001, 0.8800000000000001, 0.8800000000000001, 0.8800000000000001, 0.8800000000000001, 0.8600000000000001, 0.86, 0.875, 0.875, 0.875, 0.875, 0.875, 0.85, 0.86, 0.875, 0.8699999999999999, 0.8699999999999999, 0.8699999999999999, 0.865, 0.845, 0.8699999999999999, 0.875, 0.875, 0.8699999999999999, 0.8699999999999999, 0.8699999999999999], \"yaxis\": \"y\", \"type\": \"bar\"}], \"name\": \"8.0\"}, {\"data\": [{\"alignmentgroup\": \"True\", \"hovertemplate\": \"svc__C=9.0<br>pca__n_components=%{marker.color}<br>Accuracy=%{y}<extra></extra>\", \"ids\": [20, 40, 60, 80, 100, 120, 140, 20, 40, 60, 80, 100, 120, 140, 20, 40, 60, 80, 100, 120, 140, 20, 40, 60, 80, 100, 120, 140], \"legendgroup\": \"\", \"marker\": {\"color\": [20, 40, 60, 80, 100, 120, 140, 20, 40, 60, 80, 100, 120, 140, 20, 40, 60, 80, 100, 120, 140, 20, 40, 60, 80, 100, 120, 140], \"coloraxis\": \"coloraxis\"}, \"name\": \"\", \"offsetgroup\": \"\", \"orientation\": \"v\", \"showlegend\": false, \"textposition\": \"auto\", \"x\": [20, 40, 60, 80, 100, 120, 140, 20, 40, 60, 80, 100, 120, 140, 20, 40, 60, 80, 100, 120, 140, 20, 40, 60, 80, 100, 120, 140], \"xaxis\": \"x\", \"y\": [0.8600000000000001, 0.8699999999999999, 0.8800000000000001, 0.8800000000000001, 0.8800000000000001, 0.8800000000000001, 0.8800000000000001, 0.8600000000000001, 0.86, 0.875, 0.875, 0.875, 0.875, 0.875, 0.85, 0.86, 0.875, 0.8699999999999999, 0.8699999999999999, 0.8699999999999999, 0.865, 0.845, 0.8699999999999999, 0.875, 0.875, 0.8699999999999999, 0.8699999999999999, 0.8699999999999999], \"yaxis\": \"y\", \"type\": \"bar\"}], \"name\": \"9.0\"}, {\"data\": [{\"alignmentgroup\": \"True\", \"hovertemplate\": \"svc__C=10.0<br>pca__n_components=%{marker.color}<br>Accuracy=%{y}<extra></extra>\", \"ids\": [20, 40, 60, 80, 100, 120, 140, 20, 40, 60, 80, 100, 120, 140, 20, 40, 60, 80, 100, 120, 140, 20, 40, 60, 80, 100, 120, 140], \"legendgroup\": \"\", \"marker\": {\"color\": [20, 40, 60, 80, 100, 120, 140, 20, 40, 60, 80, 100, 120, 140, 20, 40, 60, 80, 100, 120, 140, 20, 40, 60, 80, 100, 120, 140], \"coloraxis\": \"coloraxis\"}, \"name\": \"\", \"offsetgroup\": \"\", \"orientation\": \"v\", \"showlegend\": false, \"textposition\": \"auto\", \"x\": [20, 40, 60, 80, 100, 120, 140, 20, 40, 60, 80, 100, 120, 140, 20, 40, 60, 80, 100, 120, 140, 20, 40, 60, 80, 100, 120, 140], \"xaxis\": \"x\", \"y\": [0.8600000000000001, 0.8699999999999999, 0.8800000000000001, 0.8800000000000001, 0.8800000000000001, 0.8800000000000001, 0.8800000000000001, 0.8600000000000001, 0.86, 0.875, 0.875, 0.875, 0.875, 0.875, 0.85, 0.86, 0.875, 0.8699999999999999, 0.8699999999999999, 0.8699999999999999, 0.865, 0.845, 0.8699999999999999, 0.875, 0.875, 0.8699999999999999, 0.8699999999999999, 0.8699999999999999], \"yaxis\": \"y\", \"type\": \"bar\"}], \"name\": \"10.0\"}]);\n",
       "                        }).then(function(){\n",
       "                            \n",
       "var gd = document.getElementById('068bd807-3032-4cee-a0da-190d7f10c5c0');\n",
       "var x = new MutationObserver(function (mutations, observer) {{\n",
       "        var display = window.getComputedStyle(gd).display;\n",
       "        if (!display || display === 'none') {{\n",
       "            console.log([gd, 'removed!']);\n",
       "            Plotly.purge(gd);\n",
       "            observer.disconnect();\n",
       "        }}\n",
       "}});\n",
       "\n",
       "// Listen for the removal of the full notebook cells\n",
       "var notebookContainer = gd.closest('#notebook-container');\n",
       "if (notebookContainer) {{\n",
       "    x.observe(notebookContainer, {childList: true});\n",
       "}}\n",
       "\n",
       "// Listen for the clearing of the current output cell\n",
       "var outputEl = gd.closest('.output');\n",
       "if (outputEl) {{\n",
       "    x.observe(outputEl, {childList: true});\n",
       "}}\n",
       "\n",
       "                        })                };                });            </script>        </div>"
      ]
     },
     "metadata": {},
     "output_type": "display_data"
    }
   ],
   "source": [
    "## 시각화\n",
    "fig = px.bar(summary, x=\"pca__n_components\", y=\"Accuracy\", color=\"pca__n_components\",\n",
    "  animation_frame=\"svc__C\", animation_group=\"pca__n_components\", range_y=[0.5,1])\n",
    "fig.show()"
   ]
  },
  {
   "cell_type": "code",
   "execution_count": 228,
   "metadata": {},
   "outputs": [
    {
     "name": "stdout",
     "output_type": "stream",
     "text": [
      "학습용 데이터 성능 [1.0]\n",
      "검증용 데이터 성능 [0.915]\n"
     ]
    }
   ],
   "source": [
    "## kenel-PCA & SVM 성능평가\n",
    "y_pred = clf.predict(X_train) \n",
    "print(\"학습용 데이터 성능 [{}]\".format(accuracy_score(y_train, y_pred)))\n",
    "\n",
    "y_pred = clf.predict(X_test) \n",
    "print(\"검증용 데이터 성능 [{}]\".format(accuracy_score(y_test, y_pred)))"
   ]
  },
  {
   "cell_type": "markdown",
   "metadata": {},
   "source": [
    "## Neural Network 만들기"
   ]
  },
  {
   "cell_type": "code",
   "execution_count": 197,
   "metadata": {},
   "outputs": [],
   "source": [
    "class NeuralNetwork(nn.Module):\n",
    "    def __init__(self, hidden_size, class_size):\n",
    "        super(NeuralNetwork, self).__init__()\n",
    "        self.fc = nn.Sequential(\n",
    "                    nn.BatchNorm1d(class_size),\n",
    "                    nn.Linear(class_size, hidden_size),\n",
    "                    nn.Tanh(),\n",
    "                    nn.BatchNorm1d(hidden_size),\n",
    "                    nn.Linear(hidden_size, class_size),\n",
    "        )\n",
    "    \n",
    "    def forward(self, x, label=None):\n",
    "        output = self.fc(x)\n",
    "        return output\n",
    "    \n",
    "\n",
    "class FaceRecognition(object):\n",
    "    def __init__(self, pca, svm, hidden_size, class_size, learning_rate=0.001):\n",
    "        ## PCA, SVM setting\n",
    "        self.pca = pca\n",
    "        self.svm = svm\n",
    "        \n",
    "        self.class_size = class_size\n",
    "        \n",
    "        ## Neural Network 구축\n",
    "        self.network = NeuralNetwork(hidden_size, class_size)\n",
    "        \n",
    "        ## loss\n",
    "        #self.loss = nn.MSELoss()\n",
    "        self.loss = nn.CrossEntropyLoss()\n",
    "        self.optimizer = optim.Adam(self.network.parameters(), lr=learning_rate)\n",
    "    \n",
    "    ## 변환 함수\n",
    "    def transform(self, x, label=None):\n",
    "        ## PCA를 이용하여 데이터 변환\n",
    "        projected_x = self.pca.transform(x) \n",
    "        \n",
    "        ## SVM Score 산출\n",
    "        class_scores = self.svm.decision_function(projected_x)\n",
    "        \n",
    "        ## Neural Network로 정규화\n",
    "        tensor_score = torch.tensor(class_scores, dtype=torch.float)\n",
    "        output = self.network(tensor_score)\n",
    "        \n",
    "        ## Label 이 있는 경우\n",
    "        if label is not None:\n",
    "            label = torch.tensor(label, dtype=torch.long)\n",
    "            \n",
    "            ## MSE를 이용하여 loss 계산\n",
    "            return self.loss(output, label)\n",
    "        \n",
    "        return output\n",
    "    \n",
    "    ## 학습용 함수\n",
    "    def fit(self, x, label):\n",
    "        self.network.train()\n",
    "        self.network.zero_grad()\n",
    "        \n",
    "        loss = self.transform(x, label)\n",
    "        loss.backward()\n",
    "        \n",
    "        self.optimizer.step()\n",
    "        return float(loss)\n",
    "    \n",
    "    ## 예측용 함수\n",
    "    def predict(self, x):\n",
    "        self.network.eval()\n",
    "        with torch.no_grad():\n",
    "            output = self.transform(x)\n",
    "            \n",
    "        output = output.argmax(dim=1).cpu().numpy()\n",
    "        return output\n",
    "    \n",
    "    def raw_predict(self, x):\n",
    "        ## PCA를 이용하여 데이터 변환\n",
    "        projected_x = self.pca.transform(x) \n",
    "        \n",
    "        ## SVM Score 산출\n",
    "        return self.svm.predict(projected_x)"
   ]
  },
  {
   "cell_type": "code",
   "execution_count": 198,
   "metadata": {},
   "outputs": [
    {
     "data": {
      "text/plain": [
       "SVC(C=2, class_weight='balanced')"
      ]
     },
     "execution_count": 198,
     "metadata": {},
     "output_type": "execute_result"
    }
   ],
   "source": [
    "## Best SVM, PCA 모델 hyper-parameter setting\n",
    "degree = clf.best_estimator_.get_params()['pca__degree']\n",
    "n_components = clf.best_estimator_.get_params()['pca__n_components']\n",
    "C = clf.best_estimator_.get_params()['svc__C']\n",
    "\n",
    "svm = SVC(class_weight ='balanced', C=C)\n",
    "pca = KernelPCA(kernel=\"poly\", degree=degree, n_components=n_components)\n",
    "\n",
    "## SVM, PCA Fitting\n",
    "X_transformed = pca.fit_transform(X_train)\n",
    "svm.fit(X_transformed, y_train)"
   ]
  },
  {
   "cell_type": "code",
   "execution_count": 224,
   "metadata": {},
   "outputs": [],
   "source": [
    "## 최종 모델 구축\n",
    "hidden_size = 10\n",
    "model = FaceRecognition(pca, svm, hidden_size=n_classes , class_size=n_classes, learning_rate=0.002)"
   ]
  },
  {
   "cell_type": "code",
   "execution_count": 225,
   "metadata": {},
   "outputs": [],
   "source": [
    "## training epoch 설정\n",
    "epochs = 300"
   ]
  },
  {
   "cell_type": "code",
   "execution_count": 226,
   "metadata": {},
   "outputs": [
    {
     "data": {
      "application/vnd.jupyter.widget-view+json": {
       "model_id": "e161f2d14f0c44eda89b860b901b9f93",
       "version_major": 2,
       "version_minor": 0
      },
      "text/plain": [
       "HBox(children=(FloatProgress(value=0.0, description='Epoch', max=300.0, style=ProgressStyle(description_width=…"
      ]
     },
     "metadata": {},
     "output_type": "display_data"
    },
    {
     "name": "stdout",
     "output_type": "stream",
     "text": [
      "\n"
     ]
    }
   ],
   "source": [
    "progress_bar = tqdm(range(epochs), desc='Epoch')\n",
    "for epoch in progress_bar:\n",
    "    loss = model.fit(X_train, y_train)\n",
    "    progress_bar.set_postfix_str(\"loss [{}]\".format(loss))"
   ]
  },
  {
   "cell_type": "code",
   "execution_count": 230,
   "metadata": {},
   "outputs": [
    {
     "name": "stdout",
     "output_type": "stream",
     "text": [
      "학습용 데이터 성능 [1.0]\n",
      "검증용 데이터 성능 [0.8]\n"
     ]
    }
   ],
   "source": [
    "## 최종 모델 성능평가\n",
    "y_train_pred = model.predict(X_train)\n",
    "print(\"학습용 데이터 성능 [{}]\".format(accuracy_score(y_train, y_train_pred)))\n",
    "\n",
    "y_test_pred = model.predict(X_test)\n",
    "print(\"검증용 데이터 성능 [{}]\".format(accuracy_score(y_test, y_test_pred)))"
   ]
  }
 ],
 "metadata": {
  "kernelspec": {
   "display_name": "Python 3",
   "language": "python",
   "name": "python3"
  },
  "language_info": {
   "codemirror_mode": {
    "name": "ipython",
    "version": 3
   },
   "file_extension": ".py",
   "mimetype": "text/x-python",
   "name": "python",
   "nbconvert_exporter": "python",
   "pygments_lexer": "ipython3",
   "version": "3.7.6"
  }
 },
 "nbformat": 4,
 "nbformat_minor": 4
}
