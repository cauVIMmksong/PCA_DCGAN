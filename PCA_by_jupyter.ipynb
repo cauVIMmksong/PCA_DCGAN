{
 "cells": [
  {
   "cell_type": "markdown",
   "metadata": {},
   "source": [
    "Library import step"
   ]
  },
  {
   "cell_type": "code",
   "execution_count": 1,
   "metadata": {},
   "outputs": [],
   "source": [
    "import os\n",
    "import sys\n",
    "import numpy as np\n",
    "import torch\n",
    "import glob\n",
    "from matplotlib import pyplot as plt\n",
    "from PIL import Image as im\n",
    "import cv2\n",
    "from torchvision.utils import save_image"
   ]
  },
  {
   "cell_type": "code",
   "execution_count": 2,
   "metadata": {},
   "outputs": [],
   "source": [
    "#%matplotlib inline\n",
    "import argparse\n",
    "import os\n",
    "import random\n",
    "import torch\n",
    "import torch.nn as nn\n",
    "import torch.nn.parallel\n",
    "import torch.backends.cudnn as cudnn\n",
    "import torch.optim as optim\n",
    "import torch.utils.data\n",
    "import torchvision.datasets as dset\n",
    "import torchvision.transforms as transforms\n",
    "import torchvision.utils as vutils\n",
    "import numpy as np\n",
    "import matplotlib.pyplot as plt\n",
    "import matplotlib.animation as animation\n",
    "from IPython.display import HTML"
   ]
  },
  {
   "cell_type": "markdown",
   "metadata": {},
   "source": [
    "GPU check"
   ]
  },
  {
   "cell_type": "code",
   "execution_count": 4,
   "metadata": {},
   "outputs": [
    {
     "name": "stdout",
     "output_type": "stream",
     "text": [
      "cuda:0\n"
     ]
    }
   ],
   "source": [
    "ngpu = 1\n",
    "device = torch.device(\"cuda:0\" if (torch.cuda.is_available() and ngpu > 0) else \"cpu\")\n",
    "\n",
    "print(device)"
   ]
  },
  {
   "cell_type": "markdown",
   "metadata": {},
   "source": [
    "PCA part"
   ]
  },
  {
   "cell_type": "code",
   "execution_count": 5,
   "metadata": {},
   "outputs": [
    {
     "data": {
      "image/png": "[encoded data removed]",
      "text/plain": [
       "<Figure size 432x288 with 1 Axes>"
      ]
     },
     "metadata": {
      "needs_background": "light"
     },
     "output_type": "display_data"
    }
   ],
   "source": [
    "class PCA(nn.Module):\n",
    "    def __init__(self, ngpu):\n",
    "        super(PCA, self).__init__()\n",
    "        self.ngpu = ngpu\n",
    "        neutral = []\n",
    "\n",
    "        for i in range(2000):\n",
    "\n",
    "            i += 1\n",
    "            img = im.open(f'celeba/img_align_celeba/image{i}.jpg').convert('L') \n",
    "            \n",
    "            img = img.resize((64,64), im.ANTIALIAS) \n",
    "            \n",
    "            img2 = np.array(img).flatten() \n",
    "                      \n",
    "            neutral.append(img2)\n",
    "\n",
    "        faces_matrix = np.vstack(neutral)\n",
    "        mean_face = np.mean(faces_matrix, axis=0)\n",
    "        # plt.imshow(mean_face.reshape(64,64),cmap='gray'); \n",
    "        # plt.title('Mean Face')\n",
    "        # plt.show()\n",
    "          \n",
    "\n",
    "        faces_norm = faces_matrix - mean_face\n",
    "        faces_norm.shape\n",
    "        \n",
    "        # Calculate covariance matrix\n",
    "        face_cov = np.cov(faces_norm.T) #np.cov expects features as rows and observations as columns, so transposed\n",
    "        face_cov.shape\n",
    "        \n",
    "        eigen_vecs, eigen_vals, _ = np.linalg.svd(face_cov)\n",
    "        img = eigen_vecs[:,1].reshape(64,64)      \n",
    "\n",
    "        plt.imshow(img, cmap='gray')\n",
    "        plt.show()\n",
    "        #print(img)\n",
    "        # print(\"eigen_vecs.shape\")\n",
    "        # print(eigen_vecs.shape)\n",
    "\n",
    "        \n",
    "        # mean_array = mean_face.reshape(64,64)\n",
    "        # mean_image = im.fromarray(mean_array.astype('uint8'),'L')\n",
    "        # mean_image = mean_image.convert('L')\n",
    "\n",
    "        weight = faces_norm[0,:].dot(eigen_vecs[:,:1]) # Get PC scores of the images\n",
    "        # print(\"weight.shape\")\n",
    "        # print(weight.shape)\n",
    "\n",
    "        projected_face = weight.dot(eigen_vecs[:,:1].T) # Reconstruct first face in dataset using k PCs\n",
    "        # print(\"projected_face.shape\")\n",
    "        # print(projected_face.shape)\n",
    "        # plt.imshow(projected_face.reshape(64,64),cmap='gray')\n",
    "        # plt.show()\n",
    "        \n",
    "\n",
    "        projected_face = projected_face + mean_face\n",
    "        # print(\"projected_mean_face.shape\")\n",
    "        # print(projected_face.shape)\n",
    "        # print(projected_face)\n",
    "\n",
    "        # plt.imshow(projected_face.reshape(64,64)+mean_face.reshape(64,64),cmap='gray');\n",
    "        # plt.show()\n",
    "\n",
    "\n",
    "\n",
    "    \n",
    "\n",
    "        #self.pca = eigen_vecs[:,1]\n",
    "        self.pca = projected_face\n",
    "\n",
    "        # nv + PCA add @@@@@@@@@@@@@@@@@@@@@@@@@@@@@@@@@@@@@@@\n",
    "        ##mul_image = cv2.add(src1, src2)\n",
    "            \n",
    "pca_= PCA(ngpu).to(device)"
   ]
  },
  {
   "cell_type": "markdown",
   "metadata": {},
   "source": []
  },
  {
   "cell_type": "code",
   "execution_count": 8,
   "metadata": {},
   "outputs": [
    {
     "name": "stdout",
     "output_type": "stream",
     "text": [
      "torch.Size([1, 1, 64, 64])\n"
     ]
    }
   ],
   "source": [
    "eigenface = pca_.pca\n",
    "eigenface = torch.Tensor(eigenface)\n",
    "\n",
    "\n",
    "eigenface = eigenface.reshape(1,64,64)\n",
    "eigenface = torch.unsqueeze(eigenface, dim=0)\n",
    "\n",
    "# print(\"eigenface unsqueeze shape\")\n",
    "# print(eigenface.shape)\n",
    "\n",
    "# #eigenface = torch.squeeze(eigenface, dim=0)\n",
    "\n",
    "# print(\"eigenface shape\")\n",
    "print(eigenface.shape)\n",
    "\n",
    "\n",
    "#w, h =64,64\n",
    "\n",
    "# #src2 = np.stack([src1, src1, src1], axis=1)\n",
    "#src2 = torch.Tensor(src1)\n",
    "# print(\" src shape\")\n",
    "# print(src1.shape)\n",
    "\n",
    "fixed_noise = torch.randn(1, 100, 1, 1, device=device)\n",
    "#print(\"fixed_noise shape\")\n",
    "#print(fixed_noise.shape)\n",
    "#print(fixed_noise)"
   ]
  },
  {
   "cell_type": "code",
   "execution_count": 10,
   "metadata": {},
   "outputs": [
    {
     "ename": "RuntimeError",
     "evalue": "Input type (torch.FloatTensor) and weight type (torch.cuda.FloatTensor) should be the same or input should be a MKLDNN tensor and weight is a dense tensor",
     "output_type": "error",
     "traceback": [
      "\u001b[1;31m---------------------------------------------------------------------------\u001b[0m",
      "\u001b[1;31mRuntimeError\u001b[0m                              Traceback (most recent call last)",
      "\u001b[1;32md:\\workspace\\DCGAN\\PCA_DCGAN\\PCA_by_jupyter.ipynb 셀 10\u001b[0m in \u001b[0;36m<cell line: 49>\u001b[1;34m()\u001b[0m\n\u001b[0;32m     <a href='vscode-notebook-cell:/d%3A/workspace/DCGAN/PCA_DCGAN/PCA_by_jupyter.ipynb#ch0000012?line=45'>46</a>\u001b[0m         \u001b[39mreturn\u001b[39;00m \u001b[39mself\u001b[39m\u001b[39m.\u001b[39mmain(\u001b[39minput\u001b[39m)\n\u001b[0;32m     <a href='vscode-notebook-cell:/d%3A/workspace/DCGAN/PCA_DCGAN/PCA_by_jupyter.ipynb#ch0000012?line=47'>48</a>\u001b[0m pca_conv\u001b[39m=\u001b[39m PCAConv(ngpu)\u001b[39m.\u001b[39mto(device)\n\u001b[1;32m---> <a href='vscode-notebook-cell:/d%3A/workspace/DCGAN/PCA_DCGAN/PCA_by_jupyter.ipynb#ch0000012?line=48'>49</a>\u001b[0m en \u001b[39m=\u001b[39m pca_conv(eigenface)\n\u001b[0;32m     <a href='vscode-notebook-cell:/d%3A/workspace/DCGAN/PCA_DCGAN/PCA_by_jupyter.ipynb#ch0000012?line=50'>51</a>\u001b[0m \u001b[39mprint\u001b[39m(\u001b[39m\"\u001b[39m\u001b[39men.shape\u001b[39m\u001b[39m\"\u001b[39m)\n\u001b[0;32m     <a href='vscode-notebook-cell:/d%3A/workspace/DCGAN/PCA_DCGAN/PCA_by_jupyter.ipynb#ch0000012?line=51'>52</a>\u001b[0m \u001b[39mprint\u001b[39m(en\u001b[39m.\u001b[39mshape)\n",
      "File \u001b[1;32mc:\\Users\\VIM_PC\\anaconda3\\envs\\GAN\\lib\\site-packages\\torch\\nn\\modules\\module.py:1130\u001b[0m, in \u001b[0;36mModule._call_impl\u001b[1;34m(self, *input, **kwargs)\u001b[0m\n\u001b[0;32m   1126\u001b[0m \u001b[39m# If we don't have any hooks, we want to skip the rest of the logic in\u001b[39;00m\n\u001b[0;32m   1127\u001b[0m \u001b[39m# this function, and just call forward.\u001b[39;00m\n\u001b[0;32m   1128\u001b[0m \u001b[39mif\u001b[39;00m \u001b[39mnot\u001b[39;00m (\u001b[39mself\u001b[39m\u001b[39m.\u001b[39m_backward_hooks \u001b[39mor\u001b[39;00m \u001b[39mself\u001b[39m\u001b[39m.\u001b[39m_forward_hooks \u001b[39mor\u001b[39;00m \u001b[39mself\u001b[39m\u001b[39m.\u001b[39m_forward_pre_hooks \u001b[39mor\u001b[39;00m _global_backward_hooks\n\u001b[0;32m   1129\u001b[0m         \u001b[39mor\u001b[39;00m _global_forward_hooks \u001b[39mor\u001b[39;00m _global_forward_pre_hooks):\n\u001b[1;32m-> 1130\u001b[0m     \u001b[39mreturn\u001b[39;00m forward_call(\u001b[39m*\u001b[39;49m\u001b[39minput\u001b[39;49m, \u001b[39m*\u001b[39;49m\u001b[39m*\u001b[39;49mkwargs)\n\u001b[0;32m   1131\u001b[0m \u001b[39m# Do not call functions when jit is used\u001b[39;00m\n\u001b[0;32m   1132\u001b[0m full_backward_hooks, non_full_backward_hooks \u001b[39m=\u001b[39m [], []\n",
      "\u001b[1;32md:\\workspace\\DCGAN\\PCA_DCGAN\\PCA_by_jupyter.ipynb 셀 10\u001b[0m in \u001b[0;36mPCAConv.forward\u001b[1;34m(self, input)\u001b[0m\n\u001b[0;32m     <a href='vscode-notebook-cell:/d%3A/workspace/DCGAN/PCA_DCGAN/PCA_by_jupyter.ipynb#ch0000012?line=44'>45</a>\u001b[0m \u001b[39mdef\u001b[39;00m \u001b[39mforward\u001b[39m(\u001b[39mself\u001b[39m, \u001b[39minput\u001b[39m):\n\u001b[1;32m---> <a href='vscode-notebook-cell:/d%3A/workspace/DCGAN/PCA_DCGAN/PCA_by_jupyter.ipynb#ch0000012?line=45'>46</a>\u001b[0m     \u001b[39mreturn\u001b[39;00m \u001b[39mself\u001b[39;49m\u001b[39m.\u001b[39;49mmain(\u001b[39minput\u001b[39;49m)\n",
      "File \u001b[1;32mc:\\Users\\VIM_PC\\anaconda3\\envs\\GAN\\lib\\site-packages\\torch\\nn\\modules\\module.py:1130\u001b[0m, in \u001b[0;36mModule._call_impl\u001b[1;34m(self, *input, **kwargs)\u001b[0m\n\u001b[0;32m   1126\u001b[0m \u001b[39m# If we don't have any hooks, we want to skip the rest of the logic in\u001b[39;00m\n\u001b[0;32m   1127\u001b[0m \u001b[39m# this function, and just call forward.\u001b[39;00m\n\u001b[0;32m   1128\u001b[0m \u001b[39mif\u001b[39;00m \u001b[39mnot\u001b[39;00m (\u001b[39mself\u001b[39m\u001b[39m.\u001b[39m_backward_hooks \u001b[39mor\u001b[39;00m \u001b[39mself\u001b[39m\u001b[39m.\u001b[39m_forward_hooks \u001b[39mor\u001b[39;00m \u001b[39mself\u001b[39m\u001b[39m.\u001b[39m_forward_pre_hooks \u001b[39mor\u001b[39;00m _global_backward_hooks\n\u001b[0;32m   1129\u001b[0m         \u001b[39mor\u001b[39;00m _global_forward_hooks \u001b[39mor\u001b[39;00m _global_forward_pre_hooks):\n\u001b[1;32m-> 1130\u001b[0m     \u001b[39mreturn\u001b[39;00m forward_call(\u001b[39m*\u001b[39;49m\u001b[39minput\u001b[39;49m, \u001b[39m*\u001b[39;49m\u001b[39m*\u001b[39;49mkwargs)\n\u001b[0;32m   1131\u001b[0m \u001b[39m# Do not call functions when jit is used\u001b[39;00m\n\u001b[0;32m   1132\u001b[0m full_backward_hooks, non_full_backward_hooks \u001b[39m=\u001b[39m [], []\n",
      "File \u001b[1;32mc:\\Users\\VIM_PC\\anaconda3\\envs\\GAN\\lib\\site-packages\\torch\\nn\\modules\\container.py:139\u001b[0m, in \u001b[0;36mSequential.forward\u001b[1;34m(self, input)\u001b[0m\n\u001b[0;32m    137\u001b[0m \u001b[39mdef\u001b[39;00m \u001b[39mforward\u001b[39m(\u001b[39mself\u001b[39m, \u001b[39minput\u001b[39m):\n\u001b[0;32m    138\u001b[0m     \u001b[39mfor\u001b[39;00m module \u001b[39min\u001b[39;00m \u001b[39mself\u001b[39m:\n\u001b[1;32m--> 139\u001b[0m         \u001b[39minput\u001b[39m \u001b[39m=\u001b[39m module(\u001b[39minput\u001b[39;49m)\n\u001b[0;32m    140\u001b[0m     \u001b[39mreturn\u001b[39;00m \u001b[39minput\u001b[39m\n",
      "File \u001b[1;32mc:\\Users\\VIM_PC\\anaconda3\\envs\\GAN\\lib\\site-packages\\torch\\nn\\modules\\module.py:1130\u001b[0m, in \u001b[0;36mModule._call_impl\u001b[1;34m(self, *input, **kwargs)\u001b[0m\n\u001b[0;32m   1126\u001b[0m \u001b[39m# If we don't have any hooks, we want to skip the rest of the logic in\u001b[39;00m\n\u001b[0;32m   1127\u001b[0m \u001b[39m# this function, and just call forward.\u001b[39;00m\n\u001b[0;32m   1128\u001b[0m \u001b[39mif\u001b[39;00m \u001b[39mnot\u001b[39;00m (\u001b[39mself\u001b[39m\u001b[39m.\u001b[39m_backward_hooks \u001b[39mor\u001b[39;00m \u001b[39mself\u001b[39m\u001b[39m.\u001b[39m_forward_hooks \u001b[39mor\u001b[39;00m \u001b[39mself\u001b[39m\u001b[39m.\u001b[39m_forward_pre_hooks \u001b[39mor\u001b[39;00m _global_backward_hooks\n\u001b[0;32m   1129\u001b[0m         \u001b[39mor\u001b[39;00m _global_forward_hooks \u001b[39mor\u001b[39;00m _global_forward_pre_hooks):\n\u001b[1;32m-> 1130\u001b[0m     \u001b[39mreturn\u001b[39;00m forward_call(\u001b[39m*\u001b[39;49m\u001b[39minput\u001b[39;49m, \u001b[39m*\u001b[39;49m\u001b[39m*\u001b[39;49mkwargs)\n\u001b[0;32m   1131\u001b[0m \u001b[39m# Do not call functions when jit is used\u001b[39;00m\n\u001b[0;32m   1132\u001b[0m full_backward_hooks, non_full_backward_hooks \u001b[39m=\u001b[39m [], []\n",
      "File \u001b[1;32mc:\\Users\\VIM_PC\\anaconda3\\envs\\GAN\\lib\\site-packages\\torch\\nn\\modules\\conv.py:457\u001b[0m, in \u001b[0;36mConv2d.forward\u001b[1;34m(self, input)\u001b[0m\n\u001b[0;32m    456\u001b[0m \u001b[39mdef\u001b[39;00m \u001b[39mforward\u001b[39m(\u001b[39mself\u001b[39m, \u001b[39minput\u001b[39m: Tensor) \u001b[39m-\u001b[39m\u001b[39m>\u001b[39m Tensor:\n\u001b[1;32m--> 457\u001b[0m     \u001b[39mreturn\u001b[39;00m \u001b[39mself\u001b[39;49m\u001b[39m.\u001b[39;49m_conv_forward(\u001b[39minput\u001b[39;49m, \u001b[39mself\u001b[39;49m\u001b[39m.\u001b[39;49mweight, \u001b[39mself\u001b[39;49m\u001b[39m.\u001b[39;49mbias)\n",
      "File \u001b[1;32mc:\\Users\\VIM_PC\\anaconda3\\envs\\GAN\\lib\\site-packages\\torch\\nn\\modules\\conv.py:453\u001b[0m, in \u001b[0;36mConv2d._conv_forward\u001b[1;34m(self, input, weight, bias)\u001b[0m\n\u001b[0;32m    449\u001b[0m \u001b[39mif\u001b[39;00m \u001b[39mself\u001b[39m\u001b[39m.\u001b[39mpadding_mode \u001b[39m!=\u001b[39m \u001b[39m'\u001b[39m\u001b[39mzeros\u001b[39m\u001b[39m'\u001b[39m:\n\u001b[0;32m    450\u001b[0m     \u001b[39mreturn\u001b[39;00m F\u001b[39m.\u001b[39mconv2d(F\u001b[39m.\u001b[39mpad(\u001b[39minput\u001b[39m, \u001b[39mself\u001b[39m\u001b[39m.\u001b[39m_reversed_padding_repeated_twice, mode\u001b[39m=\u001b[39m\u001b[39mself\u001b[39m\u001b[39m.\u001b[39mpadding_mode),\n\u001b[0;32m    451\u001b[0m                     weight, bias, \u001b[39mself\u001b[39m\u001b[39m.\u001b[39mstride,\n\u001b[0;32m    452\u001b[0m                     _pair(\u001b[39m0\u001b[39m), \u001b[39mself\u001b[39m\u001b[39m.\u001b[39mdilation, \u001b[39mself\u001b[39m\u001b[39m.\u001b[39mgroups)\n\u001b[1;32m--> 453\u001b[0m \u001b[39mreturn\u001b[39;00m F\u001b[39m.\u001b[39;49mconv2d(\u001b[39minput\u001b[39;49m, weight, bias, \u001b[39mself\u001b[39;49m\u001b[39m.\u001b[39;49mstride,\n\u001b[0;32m    454\u001b[0m                 \u001b[39mself\u001b[39;49m\u001b[39m.\u001b[39;49mpadding, \u001b[39mself\u001b[39;49m\u001b[39m.\u001b[39;49mdilation, \u001b[39mself\u001b[39;49m\u001b[39m.\u001b[39;49mgroups)\n",
      "\u001b[1;31mRuntimeError\u001b[0m: Input type (torch.FloatTensor) and weight type (torch.cuda.FloatTensor) should be the same or input should be a MKLDNN tensor and weight is a dense tensor"
     ]
    }
   ],
   "source": [
    "class PCAConv(nn.Module):\n",
    "    def __init__(self,npgu):\n",
    "        super(PCAConv, self).__init__()\n",
    "        self.ngpu = ngpu\n",
    "        self.main = nn.Sequential(\n",
    "            # nn.ReLU(nn.MaxPool2d(nn.Conv2d(1, 32, 3,1,1, bias=False),2)),\n",
    "            # nn.ReLU(nn.MaxPool2d(nn.Conv2d(32, 64, 3,1,1, bias=False),2)),\n",
    "            # nn.ReLU(nn.MaxPool2d(nn.Conv2d(64, 98, 3,1,1, bias=False),2)),\n",
    "            # nn.ReLU(nn.MaxPool2d(nn.Conv2d(98, 100, 3,1,1, bias=False),2)),\n",
    "            # #nn.Conv1d(1,100,1,1,0,bias=False),\n",
    "            #nn.AdaptiveAvgPool2d(1)\n",
    "            \n",
    "            nn.Conv2d(1, 32, 4,2,1, bias=False),\n",
    "            nn.Conv2d(32, 64, 4,2,1, bias=False),\n",
    "            nn.Conv2d(64, 96, 4,2,1, bias=False),\n",
    "            nn.Conv2d(96, 100, 4,2,1, bias=False),\n",
    "            nn.AdaptiveAvgPool2d(1)\n",
    "            \n",
    "# ############################### 1st\n",
    "#             # input is (nc) x 64 x 64\n",
    "#             nn.Conv2d(1, 64, 4, 2, 1, bias=False),\n",
    "#             #nn.LeakyReLU(0.2, inplace=True),\n",
    "#             # state size. (ndf) x 32 x 32\n",
    "#             nn.Conv2d(64, 64 * 2, 4, 2, 1, bias=False),\n",
    "#             #nn.BatchNorm2d(64 * 2),\n",
    "#             #nn.LeakyReLU(0.2, inplace=True),\n",
    "#             # state size. (ndf*2) x 16 x 16\n",
    "#             nn.Conv2d(64 * 2, 64 * 4, 4, 2, 1, bias=False),\n",
    "#             # nn.BatchNorm2d(64 * 4),\n",
    "#             # nn.LeakyReLU(0.2, inplace=True),\n",
    "#             # # state size. (ndf*4) x 8 x 8\n",
    "#             nn.Conv2d(64 * 4, 64 * 8, 4, 2, 1, bias=False),\n",
    "#             # nn.BatchNorm2d(64 * 8),\n",
    "#             # nn.LeakyReLU(0.2, inplace=True),\n",
    "#             # # state size. (ndf*8) x 4 x 4\n",
    "\n",
    "#             #nn.Conv2d(64 * 8, 100, 1, 1, 1, bias=False),\n",
    "#             nn.Conv2d(64 * 8, 64*16, 4, 2, 1, bias=False),\n",
    "#             #nn.Sigmoid()\n",
    "#             nn.Conv2d(64*16, 100, 1, 1,1 ,bias=False),\n",
    "\n",
    "############################### 1st\n",
    "        )\n",
    "    \n",
    "    def forward(self, input):\n",
    "        return self.main(input)\n",
    "\n",
    "pca_conv= PCAConv(ngpu).to(device)\n",
    "en = pca_conv(eigenface)\n",
    "\n",
    "print(\"en.shape\")\n",
    "print(en.shape)\n",
    "print(en)\n",
    "\n",
    "# img = eigenface.reshape(64,64)      \n",
    "# plt.imshow(img, cmap='gray')\n",
    "# plt.show()\n",
    "\n",
    "nnz = en.clone().detach()\n",
    "\n",
    "print(\"nnz.shape\")\n",
    "print(nnz.shape)"
   ]
  }
 ],
 "metadata": {
  "kernelspec": {
   "display_name": "Python 3.8.13 ('GAN')",
   "language": "python",
   "name": "python3"
  },
  "language_info": {
   "codemirror_mode": {
    "name": "ipython",
    "version": 3
   },
   "file_extension": ".py",
   "mimetype": "text/x-python",
   "name": "python",
   "nbconvert_exporter": "python",
   "pygments_lexer": "ipython3",
   "version": "3.8.13"
  },
  "orig_nbformat": 4,
  "vscode": {
   "interpreter": {
    "hash": "27188a68af24359f716f42331a05ac5c5dd63b6f781f49d2f8f4a4081f86e482"
   }
  }
 },
 "nbformat": 4,
 "nbformat_minor": 2
}
